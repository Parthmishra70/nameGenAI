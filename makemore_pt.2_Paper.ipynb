{
 "cells": [
  {
   "cell_type": "markdown",
   "id": "0eeb1e64-0f00-49e2-a07b-f1edb8770412",
   "metadata": {},
   "source": [
    "# Makemore part 2 (MLP) by paper"
   ]
  },
  {
   "cell_type": "code",
   "execution_count": 1042,
   "id": "a636c570-3e78-4708-adf7-7507ef0bd021",
   "metadata": {},
   "outputs": [
    {
     "data": {
      "text/plain": [
       "<torch._C.Generator at 0x15df215b0>"
      ]
     },
     "execution_count": 1042,
     "metadata": {},
     "output_type": "execute_result"
    }
   ],
   "source": [
    "import pandas as pd\n",
    "import torch\n",
    "import torch.nn.functional as F\n",
    "import matplotlib.pyplot as plt\n",
    "from sklearn.model_selection import train_test_split\n",
    "\n",
    "torch.manual_seed(2147483647)"
   ]
  },
  {
   "cell_type": "markdown",
   "id": "7e8f6241-e948-400b-80e0-2e437914a5ee",
   "metadata": {},
   "source": [
    "#### Create Dataset"
   ]
  },
  {
   "cell_type": "code",
   "execution_count": 1043,
   "id": "156d6ea4-b9b3-45d0-a957-df9a17fb6f0a",
   "metadata": {},
   "outputs": [],
   "source": [
    "names = pd.read_csv(\"../names.txt\",names = [\"label\"])\n",
    "words = names.label"
   ]
  },
  {
   "cell_type": "code",
   "execution_count": 1044,
   "id": "11570be9",
   "metadata": {},
   "outputs": [
    {
     "data": {
      "text/plain": [
       "device(type='mps')"
      ]
     },
     "execution_count": 1044,
     "metadata": {},
     "output_type": "execute_result"
    }
   ],
   "source": [
    "device = torch.device(\"mps\" if torch.mps.is_available() else \"cpu\")\n",
    "device"
   ]
  },
  {
   "cell_type": "code",
   "execution_count": 1045,
   "id": "27b50cfb-99c3-479d-a1b3-591217133944",
   "metadata": {},
   "outputs": [],
   "source": [
    "all_stoi = {}\n",
    "all_itos ={}\n",
    "\n",
    "all = set(\"\".join(words+\".\"))\n",
    "for index,(chr) in enumerate(sorted(all)):\n",
    "    all_stoi[chr] = index\n",
    "\n",
    "for index,(chr) in enumerate(sorted(all)):\n",
    "    all_itos[index] = chr\n",
    "\n",
    "# all_stoi"
   ]
  },
  {
   "cell_type": "code",
   "execution_count": 1046,
   "id": "c667eb3c-27f2-4885-8d9c-133c640c278b",
   "metadata": {},
   "outputs": [
    {
     "name": "stdout",
     "output_type": "stream",
     "text": [
      "train_x: torch.Size([182516, 3]) train_y: torch.Size([182516])\n",
      "val_x: torch.Size([41067, 3]) val_y: torch.Size([41067])\n",
      "test_x: torch.Size([4563, 3]) test_y: torch.Size([4563])\n"
     ]
    }
   ],
   "source": [
    "x= []\n",
    "y = []\n",
    "blocks = 3\n",
    "\n",
    "for word in names.label:\n",
    "    wx = [(\".\"* (blocks - i)) + word  for i in range(blocks)]\n",
    "    wy = [y.append(all_stoi[i]) for i in (word+\".\")]\n",
    "                       \n",
    "    for ch1,ch2,ch3 in zip(*wx[:len(wx)]):\n",
    "        x.append((all_stoi[ch1],all_stoi[ch2],all_stoi[ch3]))\n",
    "\n",
    "\n",
    "\n",
    "x = torch.tensor(x)\n",
    "y = torch.tensor(y)\n",
    "\n",
    "train_x,val_x,train_y,val_y = train_test_split(x,y,test_size=0.2,shuffle=True,stratify = y,random_state=42)\n",
    "val_x,test_x,val_y,test_y = train_test_split(val_x,val_y,test_size=0.1,stratify = val_y, random_state=42)\n",
    "\n",
    "train_x,val_x,train_y,val_y = train_x.to(device),val_x.to(device),train_y.to(device),val_y.to(device)\n",
    "val_x,test_x,val_y,test_y = val_x.to(device),test_x.to(device),val_y.to(device),test_y.to(device)\n",
    "\n",
    "print(f\"train_x: {train_x.shape} train_y: {train_y.shape}\")\n",
    "print(f\"val_x: {val_x.shape} val_y: {val_y.shape}\")\n",
    "print(f\"test_x: {test_x.shape} test_y: {test_y.shape}\")"
   ]
  },
  {
   "cell_type": "code",
   "execution_count": 1047,
   "id": "8f347a11-24ee-4b95-b650-f9f6b3ac4a21",
   "metadata": {},
   "outputs": [],
   "source": [
    "# print(\"x.shape: \",x.shape,\"x.dtype: \",x.dtype,\"y.shape: \",y.shape,\"y.dtype: \",y.dtype)"
   ]
  },
  {
   "cell_type": "code",
   "execution_count": 1048,
   "id": "1f61be76-2ac6-4d0b-b065-55d0114b00d6",
   "metadata": {},
   "outputs": [],
   "source": [
    "# c = torch.randn(27,2)"
   ]
  },
  {
   "cell_type": "code",
   "execution_count": 1049,
   "id": "4988b1a3-3985-4133-9a9f-cc7c9cd00e8e",
   "metadata": {},
   "outputs": [],
   "source": [
    "# emb = c[x]\n",
    "# emb.shape"
   ]
  },
  {
   "cell_type": "code",
   "execution_count": 1050,
   "id": "5b5852c4-62da-4768-ad5f-993ab9510554",
   "metadata": {},
   "outputs": [],
   "source": [
    "# W = torch.randn(6,100)\n",
    "# B = torch.randn(100)"
   ]
  },
  {
   "cell_type": "code",
   "execution_count": 1051,
   "id": "fe3baca9-739b-4a49-8d23-52a0eaa92edf",
   "metadata": {},
   "outputs": [],
   "source": [
    "# z = emb.view(-1,6) @ W + B #-1 automatically pytorch find the other dim and put there 32 cause emb.shape => 32,3,2"
   ]
  },
  {
   "cell_type": "code",
   "execution_count": 1052,
   "id": "16892c4a-067d-44b3-aa63-e6520d2599e7",
   "metadata": {},
   "outputs": [],
   "source": [
    "# we know the tanh we use on this upper layer directly but for some understanding purposes\n",
    "# z = torch.tanh(emb.view(-1,6) @ W + B)\n",
    "# z.shape"
   ]
  },
  {
   "cell_type": "code",
   "execution_count": 1053,
   "id": "482d7f9d-06ee-46fe-a258-178b47c04f1f",
   "metadata": {},
   "outputs": [],
   "source": [
    "# W2 = torch.randn(100,27)\n",
    "# B2 = torch.randn(27)"
   ]
  },
  {
   "cell_type": "code",
   "execution_count": 1054,
   "id": "7a71a4b2-799a-4ffb-af2f-636a0af3806c",
   "metadata": {},
   "outputs": [],
   "source": [
    "# logits = z @ W2+B2\n",
    "# logits.shape"
   ]
  },
  {
   "cell_type": "code",
   "execution_count": 1055,
   "id": "f98a9844-b4c2-46c4-8d25-3586a66b6ad0",
   "metadata": {},
   "outputs": [],
   "source": [
    "# same as Cross Entropy works\n",
    "# logits = z1.exp()\n",
    "# prob = logits/logits.sum(1,keepdims=True)\n",
    "# loss = -prob[torch.arange(32),y].log().mean()\n",
    "# loss\n",
    "# Output: 17.6186\n",
    "\n",
    "# prob[0].sum()   # Ans: 1.0  so it is normalized\n",
    "\n",
    "\n",
    "\n",
    "# loss = F.cross_entropy(logits,y)\n",
    "# loss\n",
    "# Output: 17.6186\n",
    "\n"
   ]
  },
  {
   "cell_type": "code",
   "execution_count": 1056,
   "id": "5e9a8951-64b0-4569-b918-ae9f548388ed",
   "metadata": {},
   "outputs": [],
   "source": [
    "# Parameters\n",
    "c  = torch.nn.Parameter(torch.randn(27, 20, device=device) * 0.1)\n",
    "\n",
    "W  = torch.nn.Parameter(torch.randn(60, 500, device=device) * 0.01)\n",
    "B  = torch.nn.Parameter(torch.zeros(500, device=device))\n",
    "\n",
    "W2 = torch.nn.Parameter(torch.randn(500, 500, device=device) * 0.01)\n",
    "B2 = torch.nn.Parameter(torch.zeros(500, device=device))\n",
    "\n",
    "W3 = torch.nn.Parameter(torch.randn(500, 27, device=device) * 0.01)\n",
    "B3 = torch.nn.Parameter(torch.zeros(27, device=device))\n",
    "\n",
    "# Put everything on device\n",
    "parameters = [c, W, B, W2, B2, W3, B3]\n",
    "\n",
    "\n",
    "# Optimizer + Scheduler\n",
    "optimizer = torch.optim.Adam(parameters, lr=0.001)\n",
    "scheduler = torch.optim.lr_scheduler.CosineAnnealingLR(optimizer, T_max=50000)\n",
    "\n",
    "# Tracking\n",
    "lri = []\n",
    "lossi = []\n",
    "stepi = []\n"
   ]
  },
  {
   "cell_type": "markdown",
   "id": "43ef929d",
   "metadata": {},
   "source": [
    "lr         loss       batch       \n",
    "0.1 =>     2.8          64\n",
    "0.01 =>    2.7          64\n",
    "\n"
   ]
  },
  {
   "cell_type": "code",
   "execution_count": 1057,
   "id": "1fb04138-8433-4c46-b21a-4d33b81f1dbb",
   "metadata": {},
   "outputs": [
    {
     "name": "stdout",
     "output_type": "stream",
     "text": [
      "loss.item()= 1.9012610912322998\n"
     ]
    }
   ],
   "source": [
    "for i in range(50000):\n",
    "    mini_batchx = torch.randint(0,train_x.shape[0],(512,), device = device) # mini batches make execution faster and boost the forward, backward pass\n",
    "    # Forward pass\n",
    "    emb = c[train_x[mini_batchx]] # [32, 3, 2]\n",
    "    z = torch.tanh(emb.view(-1,60) @ W + B) # [32, 300]\n",
    "    z1 = torch.tanh(z @ W2 + B2) # [300, 300]\n",
    "    logits = z1 @ W3+B3 #[300, 27]\n",
    "    loss = F.cross_entropy(logits,train_y[mini_batchx])\n",
    "    \n",
    "    # Backward pass\n",
    "    # for p in parameter:\n",
    "    #     p.grad = None\n",
    "    # loss.backward()\n",
    "    # for p in parameter:\n",
    "    #     p.data += -lr*p.grad\n",
    "\n",
    "    # Track stats\n",
    "    # lri.append(lr)\n",
    "\n",
    "    optimizer.zero_grad()  # Reset gradients\n",
    "    loss.backward()  # Compute gradients\n",
    "    optimizer.step()\n",
    "    scheduler.step()\n",
    "\n",
    "\n",
    "    lossi.append(loss.log10().item())\n",
    "    stepi.append(i)\n",
    "\n",
    "print(f\"{loss.item()= }\")  "
   ]
  },
  {
   "cell_type": "code",
   "execution_count": 1058,
   "id": "866bee0e-74bd-48a3-9435-9dd0a467a4ed",
   "metadata": {},
   "outputs": [
    {
     "data": {
      "text/plain": [
       "tensor(2.0682, device='mps:0', grad_fn=<NllLossBackward0>)"
      ]
     },
     "execution_count": 1058,
     "metadata": {},
     "output_type": "execute_result"
    }
   ],
   "source": [
    "# testing on Full dataset \n",
    "emb = c[val_x] # [32, 3, 2]\n",
    "z = torch.tanh(emb.view(-1,60) @ W + B) # [32, 300]\n",
    "z1 = torch.tanh(z @ W2 + B2) # [300, 300]\n",
    "logits = z1 @ W3+B3 #[300, 27]logits = z @ W2+B2 #[32, 27]\n",
    "loss = F.cross_entropy(logits,val_y)\n",
    "loss\n",
    "\n"
   ]
  },
  {
   "cell_type": "code",
   "execution_count": 1059,
   "id": "78421549-30b7-44a6-b408-45d99e7162a4",
   "metadata": {},
   "outputs": [
    {
     "data": {
      "text/plain": [
       "tensor(1.9380, device='mps:0', grad_fn=<NllLossBackward0>)"
      ]
     },
     "execution_count": 1059,
     "metadata": {},
     "output_type": "execute_result"
    }
   ],
   "source": [
    "# testing on Full dataset \n",
    "emb = c[train_x] # [32, 3, 2]\n",
    "z = torch.tanh(emb.view(-1,60) @ W + B) # [32, 300]\n",
    "z1 = torch.tanh(z @ W2 + B2) # [300, 300]\n",
    "logits = z1 @ W3+B3 #[32, 27]\n",
    "loss = F.cross_entropy(logits,train_y)\n",
    "loss"
   ]
  },
  {
   "cell_type": "code",
   "execution_count": 1060,
   "id": "95cdd1a4-85f8-4dc5-9961-76edf8ee3de7",
   "metadata": {},
   "outputs": [
    {
     "data": {
      "image/png": "[encoded data removed]",
      "text/plain": [
       "<Figure size 640x480 with 1 Axes>"
      ]
     },
     "metadata": {},
     "output_type": "display_data"
    }
   ],
   "source": [
    "# plot the data\n",
    "plt.plot(stepi,lossi)\n",
    "plt.show()"
   ]
  },
  {
   "cell_type": "code",
   "execution_count": 1061,
   "id": "c0ade678-f918-4837-bf97-1e23be393c6c",
   "metadata": {},
   "outputs": [],
   "source": [
    "# so now you can see here the both loss are nearest and it means the model is underfitting not in overfitting now so we need more additional neurons\n",
    "# we are make an update on 100 neurons to 300 neurons \n"
   ]
  },
  {
   "cell_type": "code",
   "execution_count": null,
   "id": "3bdeb944-e346-477a-ac44-35bdf94f17e9",
   "metadata": {},
   "outputs": [
    {
     "ename": "TypeError",
     "evalue": "can't convert mps:0 device type tensor to numpy. Use Tensor.cpu() to copy the tensor to host memory first.",
     "output_type": "error",
     "traceback": [
      "\u001b[0;31m---------------------------------------------------------------------------\u001b[0m",
      "\u001b[0;31mTypeError\u001b[0m                                 Traceback (most recent call last)",
      "Cell \u001b[0;32mIn[1062], line 2\u001b[0m\n\u001b[1;32m      1\u001b[0m plt\u001b[38;5;241m.\u001b[39mfigure(figsize \u001b[38;5;241m=\u001b[39m (\u001b[38;5;241m8\u001b[39m,\u001b[38;5;241m8\u001b[39m))\n\u001b[0;32m----> 2\u001b[0m plt\u001b[38;5;241m.\u001b[39mscatter(c[:,\u001b[38;5;241m0\u001b[39m]\u001b[38;5;241m.\u001b[39mdata,c[:,\u001b[38;5;241m1\u001b[39m]\u001b[38;5;241m.\u001b[39mdata,s \u001b[38;5;241m=\u001b[39m\u001b[38;5;241m200\u001b[39m)\n\u001b[1;32m      3\u001b[0m \u001b[38;5;28;01mfor\u001b[39;00m i \u001b[38;5;129;01min\u001b[39;00m \u001b[38;5;28mrange\u001b[39m(c\u001b[38;5;241m.\u001b[39mshape[\u001b[38;5;241m0\u001b[39m]):\n\u001b[1;32m      4\u001b[0m     plt\u001b[38;5;241m.\u001b[39mtext(c[i,\u001b[38;5;241m0\u001b[39m]\u001b[38;5;241m.\u001b[39mitem(), c[i,\u001b[38;5;241m1\u001b[39m]\u001b[38;5;241m.\u001b[39mitem(), all_itos[i], ha\u001b[38;5;241m=\u001b[39m\u001b[38;5;124m\"\u001b[39m\u001b[38;5;124mcenter\u001b[39m\u001b[38;5;124m\"\u001b[39m, va\u001b[38;5;241m=\u001b[39m\u001b[38;5;124m\"\u001b[39m\u001b[38;5;124mcenter\u001b[39m\u001b[38;5;124m\"\u001b[39m, color\u001b[38;5;241m=\u001b[39m\u001b[38;5;124m'\u001b[39m\u001b[38;5;124mwhite\u001b[39m\u001b[38;5;124m'\u001b[39m)\n",
      "File \u001b[0;32m/opt/anaconda3/lib/python3.13/site-packages/matplotlib/_api/deprecation.py:453\u001b[0m, in \u001b[0;36mmake_keyword_only.<locals>.wrapper\u001b[0;34m(*args, **kwargs)\u001b[0m\n\u001b[1;32m    447\u001b[0m \u001b[38;5;28;01mif\u001b[39;00m \u001b[38;5;28mlen\u001b[39m(args) \u001b[38;5;241m>\u001b[39m name_idx:\n\u001b[1;32m    448\u001b[0m     warn_deprecated(\n\u001b[1;32m    449\u001b[0m         since, message\u001b[38;5;241m=\u001b[39m\u001b[38;5;124m\"\u001b[39m\u001b[38;5;124mPassing the \u001b[39m\u001b[38;5;132;01m%(name)s\u001b[39;00m\u001b[38;5;124m \u001b[39m\u001b[38;5;132;01m%(obj_type)s\u001b[39;00m\u001b[38;5;124m \u001b[39m\u001b[38;5;124m\"\u001b[39m\n\u001b[1;32m    450\u001b[0m         \u001b[38;5;124m\"\u001b[39m\u001b[38;5;124mpositionally is deprecated since Matplotlib \u001b[39m\u001b[38;5;132;01m%(since)s\u001b[39;00m\u001b[38;5;124m; the \u001b[39m\u001b[38;5;124m\"\u001b[39m\n\u001b[1;32m    451\u001b[0m         \u001b[38;5;124m\"\u001b[39m\u001b[38;5;124mparameter will become keyword-only in \u001b[39m\u001b[38;5;132;01m%(removal)s\u001b[39;00m\u001b[38;5;124m.\u001b[39m\u001b[38;5;124m\"\u001b[39m,\n\u001b[1;32m    452\u001b[0m         name\u001b[38;5;241m=\u001b[39mname, obj_type\u001b[38;5;241m=\u001b[39m\u001b[38;5;124mf\u001b[39m\u001b[38;5;124m\"\u001b[39m\u001b[38;5;124mparameter of \u001b[39m\u001b[38;5;132;01m{\u001b[39;00mfunc\u001b[38;5;241m.\u001b[39m\u001b[38;5;18m__name__\u001b[39m\u001b[38;5;132;01m}\u001b[39;00m\u001b[38;5;124m()\u001b[39m\u001b[38;5;124m\"\u001b[39m)\n\u001b[0;32m--> 453\u001b[0m \u001b[38;5;28;01mreturn\u001b[39;00m func(\u001b[38;5;241m*\u001b[39margs, \u001b[38;5;241m*\u001b[39m\u001b[38;5;241m*\u001b[39mkwargs)\n",
      "File \u001b[0;32m/opt/anaconda3/lib/python3.13/site-packages/matplotlib/pyplot.py:3939\u001b[0m, in \u001b[0;36mscatter\u001b[0;34m(x, y, s, c, marker, cmap, norm, vmin, vmax, alpha, linewidths, edgecolors, colorizer, plotnonfinite, data, **kwargs)\u001b[0m\n\u001b[1;32m   3919\u001b[0m \u001b[38;5;129m@_copy_docstring_and_deprecators\u001b[39m(Axes\u001b[38;5;241m.\u001b[39mscatter)\n\u001b[1;32m   3920\u001b[0m \u001b[38;5;28;01mdef\u001b[39;00m\u001b[38;5;250m \u001b[39m\u001b[38;5;21mscatter\u001b[39m(\n\u001b[1;32m   3921\u001b[0m     x: \u001b[38;5;28mfloat\u001b[39m \u001b[38;5;241m|\u001b[39m ArrayLike,\n\u001b[0;32m   (...)\u001b[0m\n\u001b[1;32m   3937\u001b[0m     \u001b[38;5;241m*\u001b[39m\u001b[38;5;241m*\u001b[39mkwargs,\n\u001b[1;32m   3938\u001b[0m ) \u001b[38;5;241m-\u001b[39m\u001b[38;5;241m>\u001b[39m PathCollection:\n\u001b[0;32m-> 3939\u001b[0m     __ret \u001b[38;5;241m=\u001b[39m gca()\u001b[38;5;241m.\u001b[39mscatter(\n\u001b[1;32m   3940\u001b[0m         x,\n\u001b[1;32m   3941\u001b[0m         y,\n\u001b[1;32m   3942\u001b[0m         s\u001b[38;5;241m=\u001b[39ms,\n\u001b[1;32m   3943\u001b[0m         c\u001b[38;5;241m=\u001b[39mc,\n\u001b[1;32m   3944\u001b[0m         marker\u001b[38;5;241m=\u001b[39mmarker,\n\u001b[1;32m   3945\u001b[0m         cmap\u001b[38;5;241m=\u001b[39mcmap,\n\u001b[1;32m   3946\u001b[0m         norm\u001b[38;5;241m=\u001b[39mnorm,\n\u001b[1;32m   3947\u001b[0m         vmin\u001b[38;5;241m=\u001b[39mvmin,\n\u001b[1;32m   3948\u001b[0m         vmax\u001b[38;5;241m=\u001b[39mvmax,\n\u001b[1;32m   3949\u001b[0m         alpha\u001b[38;5;241m=\u001b[39malpha,\n\u001b[1;32m   3950\u001b[0m         linewidths\u001b[38;5;241m=\u001b[39mlinewidths,\n\u001b[1;32m   3951\u001b[0m         edgecolors\u001b[38;5;241m=\u001b[39medgecolors,\n\u001b[1;32m   3952\u001b[0m         colorizer\u001b[38;5;241m=\u001b[39mcolorizer,\n\u001b[1;32m   3953\u001b[0m         plotnonfinite\u001b[38;5;241m=\u001b[39mplotnonfinite,\n\u001b[1;32m   3954\u001b[0m         \u001b[38;5;241m*\u001b[39m\u001b[38;5;241m*\u001b[39m({\u001b[38;5;124m\"\u001b[39m\u001b[38;5;124mdata\u001b[39m\u001b[38;5;124m\"\u001b[39m: data} \u001b[38;5;28;01mif\u001b[39;00m data \u001b[38;5;129;01mis\u001b[39;00m \u001b[38;5;129;01mnot\u001b[39;00m \u001b[38;5;28;01mNone\u001b[39;00m \u001b[38;5;28;01melse\u001b[39;00m {}),\n\u001b[1;32m   3955\u001b[0m         \u001b[38;5;241m*\u001b[39m\u001b[38;5;241m*\u001b[39mkwargs,\n\u001b[1;32m   3956\u001b[0m     )\n\u001b[1;32m   3957\u001b[0m     sci(__ret)\n\u001b[1;32m   3958\u001b[0m     \u001b[38;5;28;01mreturn\u001b[39;00m __ret\n",
      "File \u001b[0;32m/opt/anaconda3/lib/python3.13/site-packages/matplotlib/_api/deprecation.py:453\u001b[0m, in \u001b[0;36mmake_keyword_only.<locals>.wrapper\u001b[0;34m(*args, **kwargs)\u001b[0m\n\u001b[1;32m    447\u001b[0m \u001b[38;5;28;01mif\u001b[39;00m \u001b[38;5;28mlen\u001b[39m(args) \u001b[38;5;241m>\u001b[39m name_idx:\n\u001b[1;32m    448\u001b[0m     warn_deprecated(\n\u001b[1;32m    449\u001b[0m         since, message\u001b[38;5;241m=\u001b[39m\u001b[38;5;124m\"\u001b[39m\u001b[38;5;124mPassing the \u001b[39m\u001b[38;5;132;01m%(name)s\u001b[39;00m\u001b[38;5;124m \u001b[39m\u001b[38;5;132;01m%(obj_type)s\u001b[39;00m\u001b[38;5;124m \u001b[39m\u001b[38;5;124m\"\u001b[39m\n\u001b[1;32m    450\u001b[0m         \u001b[38;5;124m\"\u001b[39m\u001b[38;5;124mpositionally is deprecated since Matplotlib \u001b[39m\u001b[38;5;132;01m%(since)s\u001b[39;00m\u001b[38;5;124m; the \u001b[39m\u001b[38;5;124m\"\u001b[39m\n\u001b[1;32m    451\u001b[0m         \u001b[38;5;124m\"\u001b[39m\u001b[38;5;124mparameter will become keyword-only in \u001b[39m\u001b[38;5;132;01m%(removal)s\u001b[39;00m\u001b[38;5;124m.\u001b[39m\u001b[38;5;124m\"\u001b[39m,\n\u001b[1;32m    452\u001b[0m         name\u001b[38;5;241m=\u001b[39mname, obj_type\u001b[38;5;241m=\u001b[39m\u001b[38;5;124mf\u001b[39m\u001b[38;5;124m\"\u001b[39m\u001b[38;5;124mparameter of \u001b[39m\u001b[38;5;132;01m{\u001b[39;00mfunc\u001b[38;5;241m.\u001b[39m\u001b[38;5;18m__name__\u001b[39m\u001b[38;5;132;01m}\u001b[39;00m\u001b[38;5;124m()\u001b[39m\u001b[38;5;124m\"\u001b[39m)\n\u001b[0;32m--> 453\u001b[0m \u001b[38;5;28;01mreturn\u001b[39;00m func(\u001b[38;5;241m*\u001b[39margs, \u001b[38;5;241m*\u001b[39m\u001b[38;5;241m*\u001b[39mkwargs)\n",
      "File \u001b[0;32m/opt/anaconda3/lib/python3.13/site-packages/matplotlib/__init__.py:1521\u001b[0m, in \u001b[0;36m_preprocess_data.<locals>.inner\u001b[0;34m(ax, data, *args, **kwargs)\u001b[0m\n\u001b[1;32m   1518\u001b[0m \u001b[38;5;129m@functools\u001b[39m\u001b[38;5;241m.\u001b[39mwraps(func)\n\u001b[1;32m   1519\u001b[0m \u001b[38;5;28;01mdef\u001b[39;00m\u001b[38;5;250m \u001b[39m\u001b[38;5;21minner\u001b[39m(ax, \u001b[38;5;241m*\u001b[39margs, data\u001b[38;5;241m=\u001b[39m\u001b[38;5;28;01mNone\u001b[39;00m, \u001b[38;5;241m*\u001b[39m\u001b[38;5;241m*\u001b[39mkwargs):\n\u001b[1;32m   1520\u001b[0m     \u001b[38;5;28;01mif\u001b[39;00m data \u001b[38;5;129;01mis\u001b[39;00m \u001b[38;5;28;01mNone\u001b[39;00m:\n\u001b[0;32m-> 1521\u001b[0m         \u001b[38;5;28;01mreturn\u001b[39;00m func(\n\u001b[1;32m   1522\u001b[0m             ax,\n\u001b[1;32m   1523\u001b[0m             \u001b[38;5;241m*\u001b[39m\u001b[38;5;28mmap\u001b[39m(cbook\u001b[38;5;241m.\u001b[39msanitize_sequence, args),\n\u001b[1;32m   1524\u001b[0m             \u001b[38;5;241m*\u001b[39m\u001b[38;5;241m*\u001b[39m{k: cbook\u001b[38;5;241m.\u001b[39msanitize_sequence(v) \u001b[38;5;28;01mfor\u001b[39;00m k, v \u001b[38;5;129;01min\u001b[39;00m kwargs\u001b[38;5;241m.\u001b[39mitems()})\n\u001b[1;32m   1526\u001b[0m     bound \u001b[38;5;241m=\u001b[39m new_sig\u001b[38;5;241m.\u001b[39mbind(ax, \u001b[38;5;241m*\u001b[39margs, \u001b[38;5;241m*\u001b[39m\u001b[38;5;241m*\u001b[39mkwargs)\n\u001b[1;32m   1527\u001b[0m     auto_label \u001b[38;5;241m=\u001b[39m (bound\u001b[38;5;241m.\u001b[39marguments\u001b[38;5;241m.\u001b[39mget(label_namer)\n\u001b[1;32m   1528\u001b[0m                   \u001b[38;5;129;01mor\u001b[39;00m bound\u001b[38;5;241m.\u001b[39mkwargs\u001b[38;5;241m.\u001b[39mget(label_namer))\n",
      "File \u001b[0;32m/opt/anaconda3/lib/python3.13/site-packages/matplotlib/axes/_axes.py:4894\u001b[0m, in \u001b[0;36mAxes.scatter\u001b[0;34m(self, x, y, s, c, marker, cmap, norm, vmin, vmax, alpha, linewidths, edgecolors, colorizer, plotnonfinite, **kwargs)\u001b[0m\n\u001b[1;32m   4892\u001b[0m edgecolors \u001b[38;5;241m=\u001b[39m kwargs\u001b[38;5;241m.\u001b[39mpop(\u001b[38;5;124m'\u001b[39m\u001b[38;5;124medgecolor\u001b[39m\u001b[38;5;124m'\u001b[39m, \u001b[38;5;28;01mNone\u001b[39;00m)\n\u001b[1;32m   4893\u001b[0m \u001b[38;5;66;03m# Process **kwargs to handle aliases, conflicts with explicit kwargs:\u001b[39;00m\n\u001b[0;32m-> 4894\u001b[0m x, y \u001b[38;5;241m=\u001b[39m \u001b[38;5;28mself\u001b[39m\u001b[38;5;241m.\u001b[39m_process_unit_info([(\u001b[38;5;124m\"\u001b[39m\u001b[38;5;124mx\u001b[39m\u001b[38;5;124m\"\u001b[39m, x), (\u001b[38;5;124m\"\u001b[39m\u001b[38;5;124my\u001b[39m\u001b[38;5;124m\"\u001b[39m, y)], kwargs)\n\u001b[1;32m   4895\u001b[0m \u001b[38;5;66;03m# np.ma.ravel yields an ndarray, not a masked array,\u001b[39;00m\n\u001b[1;32m   4896\u001b[0m \u001b[38;5;66;03m# unless its argument is a masked array.\u001b[39;00m\n\u001b[1;32m   4897\u001b[0m x \u001b[38;5;241m=\u001b[39m np\u001b[38;5;241m.\u001b[39mma\u001b[38;5;241m.\u001b[39mravel(x)\n",
      "File \u001b[0;32m/opt/anaconda3/lib/python3.13/site-packages/matplotlib/axes/_base.py:2617\u001b[0m, in \u001b[0;36m_AxesBase._process_unit_info\u001b[0;34m(self, datasets, kwargs, convert)\u001b[0m\n\u001b[1;32m   2615\u001b[0m     \u001b[38;5;66;03m# Update from data if axis is already set but no unit is set yet.\u001b[39;00m\n\u001b[1;32m   2616\u001b[0m     \u001b[38;5;28;01mif\u001b[39;00m axis \u001b[38;5;129;01mis\u001b[39;00m \u001b[38;5;129;01mnot\u001b[39;00m \u001b[38;5;28;01mNone\u001b[39;00m \u001b[38;5;129;01mand\u001b[39;00m data \u001b[38;5;129;01mis\u001b[39;00m \u001b[38;5;129;01mnot\u001b[39;00m \u001b[38;5;28;01mNone\u001b[39;00m \u001b[38;5;129;01mand\u001b[39;00m \u001b[38;5;129;01mnot\u001b[39;00m axis\u001b[38;5;241m.\u001b[39mhave_units():\n\u001b[0;32m-> 2617\u001b[0m         axis\u001b[38;5;241m.\u001b[39mupdate_units(data)\n\u001b[1;32m   2618\u001b[0m \u001b[38;5;28;01mfor\u001b[39;00m axis_name, axis \u001b[38;5;129;01min\u001b[39;00m axis_map\u001b[38;5;241m.\u001b[39mitems():\n\u001b[1;32m   2619\u001b[0m     \u001b[38;5;66;03m# Return if no axis is set.\u001b[39;00m\n\u001b[1;32m   2620\u001b[0m     \u001b[38;5;28;01mif\u001b[39;00m axis \u001b[38;5;129;01mis\u001b[39;00m \u001b[38;5;28;01mNone\u001b[39;00m:\n",
      "File \u001b[0;32m/opt/anaconda3/lib/python3.13/site-packages/matplotlib/axis.py:1756\u001b[0m, in \u001b[0;36mAxis.update_units\u001b[0;34m(self, data)\u001b[0m\n\u001b[1;32m   1750\u001b[0m \u001b[38;5;250m\u001b[39m\u001b[38;5;124;03m\"\"\"\u001b[39;00m\n\u001b[1;32m   1751\u001b[0m \u001b[38;5;124;03mIntrospect *data* for units converter and update the\u001b[39;00m\n\u001b[1;32m   1752\u001b[0m \u001b[38;5;124;03m``axis.get_converter`` instance if necessary. Return *True*\u001b[39;00m\n\u001b[1;32m   1753\u001b[0m \u001b[38;5;124;03mif *data* is registered for unit conversion.\u001b[39;00m\n\u001b[1;32m   1754\u001b[0m \u001b[38;5;124;03m\"\"\"\u001b[39;00m\n\u001b[1;32m   1755\u001b[0m \u001b[38;5;28;01mif\u001b[39;00m \u001b[38;5;129;01mnot\u001b[39;00m \u001b[38;5;28mself\u001b[39m\u001b[38;5;241m.\u001b[39m_converter_is_explicit:\n\u001b[0;32m-> 1756\u001b[0m     converter \u001b[38;5;241m=\u001b[39m munits\u001b[38;5;241m.\u001b[39mregistry\u001b[38;5;241m.\u001b[39mget_converter(data)\n\u001b[1;32m   1757\u001b[0m \u001b[38;5;28;01melse\u001b[39;00m:\n\u001b[1;32m   1758\u001b[0m     converter \u001b[38;5;241m=\u001b[39m \u001b[38;5;28mself\u001b[39m\u001b[38;5;241m.\u001b[39m_converter\n",
      "File \u001b[0;32m/opt/anaconda3/lib/python3.13/site-packages/matplotlib/units.py:167\u001b[0m, in \u001b[0;36mRegistry.get_converter\u001b[0;34m(self, x)\u001b[0m\n\u001b[1;32m    165\u001b[0m \u001b[38;5;250m\u001b[39m\u001b[38;5;124;03m\"\"\"Get the converter interface instance for *x*, or None.\"\"\"\u001b[39;00m\n\u001b[1;32m    166\u001b[0m \u001b[38;5;66;03m# Unpack in case of e.g. Pandas or xarray object\u001b[39;00m\n\u001b[0;32m--> 167\u001b[0m x \u001b[38;5;241m=\u001b[39m cbook\u001b[38;5;241m.\u001b[39m_unpack_to_numpy(x)\n\u001b[1;32m    169\u001b[0m \u001b[38;5;28;01mif\u001b[39;00m \u001b[38;5;28misinstance\u001b[39m(x, np\u001b[38;5;241m.\u001b[39mndarray):\n\u001b[1;32m    170\u001b[0m     \u001b[38;5;66;03m# In case x in a masked array, access the underlying data (only its\u001b[39;00m\n\u001b[1;32m    171\u001b[0m     \u001b[38;5;66;03m# type matters).  If x is a regular ndarray, getdata() just returns\u001b[39;00m\n\u001b[1;32m    172\u001b[0m     \u001b[38;5;66;03m# the array itself.\u001b[39;00m\n\u001b[1;32m    173\u001b[0m     x \u001b[38;5;241m=\u001b[39m np\u001b[38;5;241m.\u001b[39mma\u001b[38;5;241m.\u001b[39mgetdata(x)\u001b[38;5;241m.\u001b[39mravel()\n",
      "File \u001b[0;32m/opt/anaconda3/lib/python3.13/site-packages/matplotlib/cbook.py:2361\u001b[0m, in \u001b[0;36m_unpack_to_numpy\u001b[0;34m(x)\u001b[0m\n\u001b[1;32m   2355\u001b[0m         \u001b[38;5;28;01mreturn\u001b[39;00m xtmp\n\u001b[1;32m   2356\u001b[0m \u001b[38;5;28;01mif\u001b[39;00m _is_torch_array(x) \u001b[38;5;129;01mor\u001b[39;00m _is_jax_array(x) \u001b[38;5;129;01mor\u001b[39;00m _is_tensorflow_array(x):\n\u001b[1;32m   2357\u001b[0m     \u001b[38;5;66;03m# using np.asarray() instead of explicitly __array__(), as the latter is\u001b[39;00m\n\u001b[1;32m   2358\u001b[0m     \u001b[38;5;66;03m# only _one_ of many methods, and it's the last resort, see also\u001b[39;00m\n\u001b[1;32m   2359\u001b[0m     \u001b[38;5;66;03m# https://numpy.org/devdocs/user/basics.interoperability.html#using-arbitrary-objects-in-numpy\u001b[39;00m\n\u001b[1;32m   2360\u001b[0m     \u001b[38;5;66;03m# therefore, let arrays do better if they can\u001b[39;00m\n\u001b[0;32m-> 2361\u001b[0m     xtmp \u001b[38;5;241m=\u001b[39m np\u001b[38;5;241m.\u001b[39masarray(x)\n\u001b[1;32m   2363\u001b[0m     \u001b[38;5;66;03m# In case np.asarray method does not return a numpy array in future\u001b[39;00m\n\u001b[1;32m   2364\u001b[0m     \u001b[38;5;28;01mif\u001b[39;00m \u001b[38;5;28misinstance\u001b[39m(xtmp, np\u001b[38;5;241m.\u001b[39mndarray):\n",
      "File \u001b[0;32m/opt/anaconda3/lib/python3.13/site-packages/torch/_tensor.py:1149\u001b[0m, in \u001b[0;36mTensor.__array__\u001b[0;34m(self, dtype)\u001b[0m\n\u001b[1;32m   1147\u001b[0m     \u001b[38;5;28;01mreturn\u001b[39;00m handle_torch_function(Tensor\u001b[38;5;241m.\u001b[39m__array__, (\u001b[38;5;28mself\u001b[39m,), \u001b[38;5;28mself\u001b[39m, dtype\u001b[38;5;241m=\u001b[39mdtype)\n\u001b[1;32m   1148\u001b[0m \u001b[38;5;28;01mif\u001b[39;00m dtype \u001b[38;5;129;01mis\u001b[39;00m \u001b[38;5;28;01mNone\u001b[39;00m:\n\u001b[0;32m-> 1149\u001b[0m     \u001b[38;5;28;01mreturn\u001b[39;00m \u001b[38;5;28mself\u001b[39m\u001b[38;5;241m.\u001b[39mnumpy()\n\u001b[1;32m   1150\u001b[0m \u001b[38;5;28;01melse\u001b[39;00m:\n\u001b[1;32m   1151\u001b[0m     \u001b[38;5;28;01mreturn\u001b[39;00m \u001b[38;5;28mself\u001b[39m\u001b[38;5;241m.\u001b[39mnumpy()\u001b[38;5;241m.\u001b[39mastype(dtype, copy\u001b[38;5;241m=\u001b[39m\u001b[38;5;28;01mFalse\u001b[39;00m)\n",
      "\u001b[0;31mTypeError\u001b[0m: can't convert mps:0 device type tensor to numpy. Use Tensor.cpu() to copy the tensor to host memory first."
     ]
    },
    {
     "data": {
      "image/png": "[encoded data removed]",
      "text/plain": [
       "<Figure size 800x800 with 1 Axes>"
      ]
     },
     "metadata": {},
     "output_type": "display_data"
    }
   ],
   "source": [
    "# plt.figure(figsize = (8,8))\n",
    "# plt.scatter(c[:,0].data,c[:,1].data,s =200)\n",
    "# for i in range(c.shape[0]):\n",
    "#     plt.text(c[i,0].item(), c[i,1].item(), all_itos[i], ha=\"center\", va=\"center\", color='white')\n",
    "# plt.grid(\"minor\")"
   ]
  },
  {
   "cell_type": "code",
   "execution_count": 1065,
   "id": "9d2d693d-fcd2-48ea-8096-3a5dffaead9c",
   "metadata": {},
   "outputs": [
    {
     "name": "stdout",
     "output_type": "stream",
     "text": [
      "brooks.\n",
      "dauna.\n",
      "aleena.\n",
      "nae.\n",
      "cyla.\n",
      "zidia.\n",
      "love.\n",
      "charunnah.\n",
      "samirabella.\n",
      "mala.\n"
     ]
    }
   ],
   "source": [
    "for _ in range(10):\n",
    "    mini_batchx = torch.randint(0,train_x.shape[0],(32,)) # mini batches make execution faster and boost the forward, backward pass\n",
    "\n",
    "    out=[]\n",
    "    context = [0] * blocks\n",
    "    while True:\n",
    "        emb = c[torch.tensor([context])] # [32, 3, 2]\n",
    "        z = torch.tanh(emb.view(1,-1) @ W + B) # [32, 300]\n",
    "        z1 = torch.tanh(z @ W2 + B2) # [300, 300]\n",
    "        logits = z1 @ W3+B3 #[32, 27]\n",
    "        probs = F.softmax(logits, dim=1)\n",
    "        ix = torch.multinomial(probs, num_samples=1).squeeze(1)\n",
    "        context = context[1:] + [ix]\n",
    "        out.append(ix)\n",
    "        if ix == 0:\n",
    "            break\n",
    "\n",
    "    print(\"\".join(all_itos[i.item()] for i in out))\n",
    "\n"
   ]
  }
 ],
 "metadata": {
  "kernelspec": {
   "display_name": "base",
   "language": "python",
   "name": "python3"
  },
  "language_info": {
   "codemirror_mode": {
    "name": "ipython",
    "version": 3
   },
   "file_extension": ".py",
   "mimetype": "text/x-python",
   "name": "python",
   "nbconvert_exporter": "python",
   "pygments_lexer": "ipython3",
   "version": "3.13.5"
  }
 },
 "nbformat": 4,
 "nbformat_minor": 5
}
