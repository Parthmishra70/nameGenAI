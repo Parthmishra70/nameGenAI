{
 "cells": [
  {
   "cell_type": "markdown",
   "id": "0eeb1e64-0f00-49e2-a07b-f1edb8770412",
   "metadata": {},
   "source": [
    "# Makemore part 2 (MLP) by paper"
   ]
  },
  {
   "cell_type": "code",
   "execution_count": 624,
   "id": "a636c570-3e78-4708-adf7-7507ef0bd021",
   "metadata": {},
   "outputs": [
    {
     "data": {
      "text/plain": [
       "<torch._C.Generator at 0x14e178290>"
      ]
     },
     "execution_count": 624,
     "metadata": {},
     "output_type": "execute_result"
    }
   ],
   "source": [
    "import pandas as pd\n",
    "import torch\n",
    "import torch.nn.functional as F\n",
    "import matplotlib.pyplot as plt\n",
    "from sklearn.model_selection import train_test_split\n",
    "\n",
    "torch.manual_seed(2147483647)"
   ]
  },
  {
   "cell_type": "markdown",
   "id": "7e8f6241-e948-400b-80e0-2e437914a5ee",
   "metadata": {},
   "source": [
    "#### Create Dataset"
   ]
  },
  {
   "cell_type": "code",
   "execution_count": 625,
   "id": "156d6ea4-b9b3-45d0-a957-df9a17fb6f0a",
   "metadata": {},
   "outputs": [],
   "source": [
    "names = pd.read_csv(\"../names.txt\",names = [\"label\"])\n",
    "words = names.label\n",
    "\n"
   ]
  },
  {
   "cell_type": "code",
   "execution_count": 626,
   "id": "27b50cfb-99c3-479d-a1b3-591217133944",
   "metadata": {},
   "outputs": [],
   "source": [
    "all_stoi = {}\n",
    "all_itos ={}\n",
    "\n",
    "all = set(\"\".join(words+\".\"))\n",
    "for index,(chr) in enumerate(sorted(all)):\n",
    "    all_stoi[chr] = index\n",
    "\n",
    "for index,(chr) in enumerate(sorted(all)):\n",
    "    all_itos[index] = chr\n",
    "\n",
    "# all_stoi"
   ]
  },
  {
   "cell_type": "code",
   "execution_count": 627,
   "id": "c667eb3c-27f2-4885-8d9c-133c640c278b",
   "metadata": {},
   "outputs": [
    {
     "name": "stdout",
     "output_type": "stream",
     "text": [
      "x:  tensor([[ 0,  0,  0],\n",
      "        [ 0,  0,  5],\n",
      "        [ 0,  5, 13],\n",
      "        ...,\n",
      "        [26, 26, 25],\n",
      "        [26, 25, 26],\n",
      "        [25, 26, 24]])\n",
      "y:  tensor([ 5, 13, 13,  ..., 26, 24,  0])\n"
     ]
    }
   ],
   "source": [
    "x = []\n",
    "y = []\n",
    "\n",
    "\n",
    "blocks = 3\n",
    "\n",
    "\n",
    "for word in names.label:\n",
    "    \n",
    "\n",
    "    wx = [(\".\"* (blocks - i)) + word  for i in range(blocks)]\n",
    "    wy = [y.append(all_stoi[i]) for i in (word+\".\")]\n",
    "    for ch1,ch2,ch3 in zip(*wx[:len(wx)]):\n",
    "        x.append((all_stoi[ch1],all_stoi[ch2],all_stoi[ch3]))\n",
    "\n",
    "\n",
    "x = torch.tensor(x)\n",
    "y = torch.tensor(y)\n",
    "\n",
    "\n",
    "print(\"x: \",x)\n",
    "      \n",
    "print(\"y: \",y)"
   ]
  },
  {
   "cell_type": "code",
   "execution_count": 628,
   "id": "48ef452e-e7c7-4744-998e-50887052848c",
   "metadata": {},
   "outputs": [
    {
     "name": "stdout",
     "output_type": "stream",
     "text": [
      "train_x: torch.Size([182516, 3]) train_y: torch.Size([182516])\n",
      "val_x: torch.Size([4563, 3]) val_y: torch.Size([4563])\n",
      "test_x: torch.Size([41067, 3]) test_y: torch.Size([41067])\n"
     ]
    }
   ],
   "source": [
    "# train: 70%\n",
    "# val: 30%\n",
    "# test: 10%\n",
    "\n",
    "train_x,val_x,train_y,val_y = train_test_split(x,y,test_size=0.2, shuffle=True,stratify = y, random_state=42)\n",
    "test_x,val_x,test_y,val_y = train_test_split(val_x,val_y,test_size=0.1, shuffle=True,stratify = val_y, random_state=42)\n",
    "\n",
    "# print(f\"x: {x.shape} y: {y.shape}\")\n",
    "print(f\"train_x: {train_x.shape} train_y: {train_y.shape}\")\n",
    "print(f\"val_x: {val_x.shape} val_y: {val_y.shape}\")\n",
    "print(f\"test_x: {test_x.shape} test_y: {test_y.shape}\")"
   ]
  },
  {
   "cell_type": "code",
   "execution_count": 629,
   "id": "8f347a11-24ee-4b95-b650-f9f6b3ac4a21",
   "metadata": {},
   "outputs": [],
   "source": [
    "# print(\"x.shape: \",x.shape,\"x.dtype: \",x.dtype,\"y.shape: \",y.shape,\"y.dtype: \",y.dtype)"
   ]
  },
  {
   "cell_type": "code",
   "execution_count": 630,
   "id": "1f61be76-2ac6-4d0b-b065-55d0114b00d6",
   "metadata": {},
   "outputs": [],
   "source": [
    "# c = torch.randn(27,2)"
   ]
  },
  {
   "cell_type": "code",
   "execution_count": 631,
   "id": "4988b1a3-3985-4133-9a9f-cc7c9cd00e8e",
   "metadata": {},
   "outputs": [],
   "source": [
    "# emb = c[x]\n",
    "# emb.shape"
   ]
  },
  {
   "cell_type": "code",
   "execution_count": 632,
   "id": "5b5852c4-62da-4768-ad5f-993ab9510554",
   "metadata": {},
   "outputs": [],
   "source": [
    "# W = torch.randn(6,100)\n",
    "# B = torch.randn(100)"
   ]
  },
  {
   "cell_type": "code",
   "execution_count": 633,
   "id": "fe3baca9-739b-4a49-8d23-52a0eaa92edf",
   "metadata": {},
   "outputs": [],
   "source": [
    "# z = emb.view(-1,6) @ W + B #-1 automatically pytorch find the other dim and put there 32 cause emb.shape => 32,3,2"
   ]
  },
  {
   "cell_type": "code",
   "execution_count": 634,
   "id": "16892c4a-067d-44b3-aa63-e6520d2599e7",
   "metadata": {},
   "outputs": [],
   "source": [
    "# we know the tanh we use on this upper layer directly but for some understanding purposes\n",
    "# z = torch.tanh(emb.view(-1,6) @ W + B)\n",
    "# z.shape"
   ]
  },
  {
   "cell_type": "code",
   "execution_count": 635,
   "id": "482d7f9d-06ee-46fe-a258-178b47c04f1f",
   "metadata": {},
   "outputs": [],
   "source": [
    "# W2 = torch.randn(100,27)\n",
    "# B2 = torch.randn(27)"
   ]
  },
  {
   "cell_type": "code",
   "execution_count": 636,
   "id": "7a71a4b2-799a-4ffb-af2f-636a0af3806c",
   "metadata": {},
   "outputs": [],
   "source": [
    "# logits = z @ W2+B2\n",
    "# logits.shape"
   ]
  },
  {
   "cell_type": "code",
   "execution_count": 637,
   "id": "f98a9844-b4c2-46c4-8d25-3586a66b6ad0",
   "metadata": {},
   "outputs": [],
   "source": [
    "# same as Cross Entropy works\n",
    "# logits = z1.exp()\n",
    "# prob = logits/logits.sum(1,keepdims=True)\n",
    "# loss = -prob[torch.arange(32),y].log().mean()\n",
    "# loss\n",
    "# Output: 17.6186\n",
    "\n",
    "# prob[0].sum()   # Ans: 1.0  so it is normalized\n",
    "\n",
    "\n",
    "\n",
    "# loss = F.cross_entropy(logits,y)\n",
    "# loss\n",
    "# Output: 17.6186\n",
    "\n"
   ]
  },
  {
   "cell_type": "code",
   "execution_count": 638,
   "id": "5e9a8951-64b0-4569-b918-ae9f548388ed",
   "metadata": {},
   "outputs": [],
   "source": [
    "# Parameters\n",
    "\n",
    "c = torch.randn(27,10,requires_grad = True)\n",
    "\n",
    "W = torch.randn(30,200,requires_grad = True)\n",
    "B = torch.randn(200,requires_grad = True)\n",
    "\n",
    "W2 = torch.randn(200,27,requires_grad = True)\n",
    "B2 = torch.randn(27,requires_grad = True)\n",
    "\n",
    "lrs = torch.linspace(-3,0,1000)\n",
    "lr = 0.1\n",
    "# lr = torch.tensor(0.1)\n",
    "\n",
    "parameter = [c,W,B,W2,B2]\n",
    "\n",
    "lri = []\n",
    "lossi = []\n",
    "stepi=[]"
   ]
  },
  {
   "cell_type": "code",
   "execution_count": 641,
   "id": "1fb04138-8433-4c46-b21a-4d33b81f1dbb",
   "metadata": {},
   "outputs": [
    {
     "name": "stdout",
     "output_type": "stream",
     "text": [
      "loss.item()= 3.0613925457000732\n"
     ]
    }
   ],
   "source": [
    "for i in range(60000):\n",
    "    mini_batchx = torch.randint(0,train_x.shape[0],(32,)) # mini batches make execution faster and boost the forward, backward pass\n",
    "\n",
    "    # Forward pass\n",
    "    emb = c[train_x[mini_batchx]] # [32, 3, 2]\n",
    "    z = torch.tanh(emb.view(-1,30) @ W + B) # [32, 100]\n",
    "    logits = z @ W2+B2 #[32, 27]\n",
    "    loss = F.cross_entropy(logits,y[mini_batchx])\n",
    "    \n",
    "    # Backward pass\n",
    "    for p in parameter:\n",
    "        p.grad = None\n",
    "    loss.backward()\n",
    "    for p in parameter:\n",
    "        p.data += -lr*p.grad\n",
    "\n",
    "    # Track stats\n",
    "    # lri.append(lr)\n",
    "    lossi.append(loss.log10().item())\n",
    "    stepi.append(i)\n",
    "\n",
    "print(f\"{loss.item()= }\")  "
   ]
  },
  {
   "cell_type": "code",
   "execution_count": 614,
   "id": "866bee0e-74bd-48a3-9435-9dd0a467a4ed",
   "metadata": {},
   "outputs": [
    {
     "data": {
      "text/plain": [
       "tensor(2.9046, grad_fn=<NllLossBackward0>)"
      ]
     },
     "execution_count": 614,
     "metadata": {},
     "output_type": "execute_result"
    }
   ],
   "source": [
    "# testing on Full dataset \n",
    "emb = c[val_x] # [32, 3, 2]\n",
    "z = torch.tanh(emb.view(-1,30) @ W + B) # [32, 100]\n",
    "logits = z @ W2+B2 #[32, 27]\n",
    "loss = F.cross_entropy(logits,val_y)\n",
    "loss\n",
    "\n"
   ]
  },
  {
   "cell_type": "code",
   "execution_count": 615,
   "id": "78421549-30b7-44a6-b408-45d99e7162a4",
   "metadata": {},
   "outputs": [
    {
     "data": {
      "text/plain": [
       "tensor(2.8993, grad_fn=<NllLossBackward0>)"
      ]
     },
     "execution_count": 615,
     "metadata": {},
     "output_type": "execute_result"
    }
   ],
   "source": [
    "# testing on Full dataset \n",
    "emb = c[train_x] # [32, 3, 2]\n",
    "z = torch.tanh(emb.view(-1,30) @ W + B) # [32, 100]\n",
    "logits = z @ W2+B2 #[32, 27]\n",
    "loss = F.cross_entropy(logits,train_y)\n",
    "loss"
   ]
  },
  {
   "cell_type": "code",
   "execution_count": 616,
   "id": "95cdd1a4-85f8-4dc5-9961-76edf8ee3de7",
   "metadata": {},
   "outputs": [
    {
     "data": {
      "image/png": "[encoded data removed]",
      "text/plain": [
       "<Figure size 640x480 with 1 Axes>"
      ]
     },
     "metadata": {},
     "output_type": "display_data"
    }
   ],
   "source": [
    "# plot the data\n",
    "plt.plot(stepi,lossi)\n",
    "plt.show()"
   ]
  },
  {
   "cell_type": "code",
   "execution_count": 617,
   "id": "c0ade678-f918-4837-bf97-1e23be393c6c",
   "metadata": {},
   "outputs": [],
   "source": [
    "# so now you can see here the both loss are nearest and it means the model is underfitting not in overfitting now so we need more additional neurons\n",
    "# we are make an update on 100 neurons to 300 neurons \n"
   ]
  },
  {
   "cell_type": "code",
   "execution_count": 618,
   "id": "3bdeb944-e346-477a-ac44-35bdf94f17e9",
   "metadata": {},
   "outputs": [
    {
     "data": {
      "image/png": "[encoded data removed]",
      "text/plain": [
       "<Figure size 800x800 with 1 Axes>"
      ]
     },
     "metadata": {},
     "output_type": "display_data"
    }
   ],
   "source": [
    "plt.figure(figsize = (8,8))\n",
    "plt.scatter(c[:,0].data,c[:,1].data,s =200)\n",
    "for i in range(c.shape[0]):\n",
    "    plt.text(c[i,0].item(), c[i,1].item(), all_itos[i], ha=\"center\", va=\"center\", color='white')\n",
    "plt.grid(\"minor\")"
   ]
  },
  {
   "cell_type": "code",
   "execution_count": null,
   "id": "9d2d693d-fcd2-48ea-8096-3a5dffaead9c",
   "metadata": {},
   "outputs": [],
   "source": []
  }
 ],
 "metadata": {
  "kernelspec": {
   "display_name": "Python 3 (ipykernel)",
   "language": "python",
   "name": "python3"
  },
  "language_info": {
   "codemirror_mode": {
    "name": "ipython",
    "version": 3
   },
   "file_extension": ".py",
   "mimetype": "text/x-python",
   "name": "python",
   "nbconvert_exporter": "python",
   "pygments_lexer": "ipython3",
   "version": "3.13.5"
  }
 },
 "nbformat": 4,
 "nbformat_minor": 5
}
