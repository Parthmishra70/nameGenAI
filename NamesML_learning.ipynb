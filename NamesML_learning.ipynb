{
 "cells": [
  {
   "cell_type": "markdown",
   "id": "860e4b0e",
   "metadata": {},
   "source": [
    "# crack 2.17"
   ]
  },
  {
   "cell_type": "markdown",
   "id": "e2da1ccd",
   "metadata": {},
   "source": [
    "#### Automate training with Lightning"
   ]
  },
  {
   "cell_type": "code",
   "execution_count": 37,
   "id": "ebb501eb",
   "metadata": {},
   "outputs": [],
   "source": [
    "# !pip install lightning pytorch_lightning"
   ]
  },
  {
   "cell_type": "code",
   "execution_count": 38,
   "id": "715d1f1a",
   "metadata": {},
   "outputs": [
    {
     "data": {
      "text/plain": [
       "<torch._C.Generator at 0x143d215d0>"
      ]
     },
     "execution_count": 38,
     "metadata": {},
     "output_type": "execute_result"
    }
   ],
   "source": [
    "import pandas as pd\n",
    "import torch\n",
    "import torch.nn.functional as F\n",
    "import matplotlib.pyplot as plt\n",
    "from sklearn.model_selection import train_test_split\n",
    "from torch.utils.data import Dataset, DataLoader\n",
    "import torch.nn.functional as F\n",
    "import torch.nn as nn\n",
    "import pytorch_lightning as L\n",
    "from lightning.pytorch.loggers import CSVLogger\n",
    "from lightning.pytorch.tuner import Tuner\n",
    "\n",
    "\n",
    "torch.manual_seed(2147483647)"
   ]
  },
  {
   "cell_type": "code",
   "execution_count": 39,
   "id": "c7503306",
   "metadata": {},
   "outputs": [],
   "source": [
    "names = pd.read_csv(\"../names.txt\",names = [\"label\"])"
   ]
  },
  {
   "cell_type": "code",
   "execution_count": 40,
   "id": "adc44855",
   "metadata": {},
   "outputs": [],
   "source": [
    "all_stoi = {}\n",
    "all_itos ={}\n",
    "\n",
    "all = set(\"\".join(names.label+\".\"))\n",
    "for index,(chr) in enumerate(sorted(all)):\n",
    "    all_stoi[chr] = index\n",
    "\n",
    "for index,(chr) in enumerate(sorted(all)):\n",
    "    all_itos[index] = chr"
   ]
  },
  {
   "cell_type": "code",
   "execution_count": 41,
   "id": "cb24131a",
   "metadata": {},
   "outputs": [],
   "source": [
    "device = torch.device(\"mps\" if torch.mps.is_available() else \"cpu\")"
   ]
  },
  {
   "cell_type": "code",
   "execution_count": 42,
   "id": "57fea1f0",
   "metadata": {},
   "outputs": [],
   "source": [
    "# Model\n",
    "class MLnames(nn.Module):\n",
    "  def __init__(self):\n",
    "    super().__init__()\n",
    "    # Initialize parameters\n",
    "    self.c = nn.Parameter(torch.randn(27,2,device =device))\n",
    "    self.w = nn.Parameter(torch.randn(6,100,device =device))\n",
    "    self.b = nn.Parameter(torch.randn(100,device =device))\n",
    "    \n",
    "    self.w1 = nn.Parameter(torch.randn(100,27,device =device))\n",
    "    self.b1 = nn.Parameter(torch.randn(27,device =device))\n",
    "\n",
    "    # self.all_layer = nn.Sequential(\n",
    "    #   # Input Layer\n",
    "    #     nn.Linear(6,100),\n",
    "    #     nn.Tanh(),\n",
    "\n",
    "    #   # Hidden Layer\n",
    "    #     nn.Linear(100,100),\n",
    "    #     nn.Tanh(),\n",
    "\n",
    "    #   # Output Layer\n",
    "    #     nn.Linear(100,27)\n",
    "    # )\n",
    "    \n",
    "  # Forward Pass\n",
    "  def forward(self,x):\n",
    "    emb = self.c[x] # [32, 3, 2]\n",
    "    z = torch.tanh(emb.view(-1,self.w.shape[0]) @ self.w + self.b)\n",
    "    logits = z @ self.w1 + self.b1\n",
    "    return logits"
   ]
  },
  {
   "cell_type": "code",
   "execution_count": 43,
   "id": "1ff3c3e7",
   "metadata": {},
   "outputs": [
    {
     "name": "stdout",
     "output_type": "stream",
     "text": [
      "train_x: 182516 train_y: 182516\n",
      "val_x: 41067 val_y: 41067\n",
      "test_x: 4563 test_y: 4563\n"
     ]
    }
   ],
   "source": [
    "xo = []\n",
    "yo = []\n",
    "blocks = 3\n",
    "\n",
    "for word in names.label:\n",
    "    wx = [(\".\"* (blocks - i)) + word  for i in range(blocks)]\n",
    "    wy = [yo.append(all_stoi[i]) for i in (word+\".\")]\n",
    "                       \n",
    "    for ch1,ch2,ch3 in zip(*wx[:len(wx)]):\n",
    "        xo.append((all_stoi[ch1],all_stoi[ch2],all_stoi[ch3]))\n",
    " \n",
    "train_x,val_x,train_y,val_y = train_test_split(xo,yo,test_size=0.2,stratify = yo,random_state=42)\n",
    "val_x,test_x,val_y,test_y = train_test_split(val_x,val_y,test_size=0.1,stratify = val_y, random_state=42)\n",
    "\n",
    "\n",
    "\n",
    "train_x = torch.tensor(train_x,device = device)\n",
    "train_y = torch.tensor(train_y,device = device)\n",
    "\n",
    "val_x = torch.tensor(val_x,device = device)\n",
    "val_y = torch.tensor(val_y,device = device)\n",
    "\n",
    "test_x = torch.tensor(test_x,device = device)\n",
    "test_y = torch.tensor(test_y,device = device)\n",
    "\n",
    "\n",
    "train_ = {\"train_x\": train_x, \"train_y\": train_y}\n",
    "valid_ = {\"val_x\": val_x, \"val_y\": val_y}\n",
    "test_ = {\"test_x\": test_x, \"test_y\": test_y}\n",
    "\n",
    "\n",
    "\n",
    "print(f\"train_x: {len(train_x)} train_y: {len(train_y)}\")\n",
    "print(f\"val_x: {len(val_x)} val_y: {len(val_y)}\")\n",
    "print(f\"test_x: {len(test_x)} test_y: {len(test_y)}\")\n",
    "\n",
    "# print(len(xo),len(yo))\n",
    "\n",
    "class CustomDataset(Dataset):\n",
    "    def __init__(self, data, labels):\n",
    "        super().__init__()\n",
    "        self.data = data\n",
    "        self.labels = labels\n",
    "\n",
    "    def __len__(self):\n",
    "        return len(self.data)\n",
    "\n",
    "    def __getitem__(self, idx):\n",
    "        x =  self.data[idx]\n",
    "        y =  self.labels[idx]\n",
    "        return x,y\n",
    "        \n",
    "# # Execute the Data Loading with PyTorch Lightning\n",
    "class DataModule(L.LightningDataModule):\n",
    "    def __init__(self, data_dir: str = \"../names.txt\", batch_size: int = 32):\n",
    "        super().__init__()\n",
    "        self.data_dir = pd.read_csv(data_dir,names = [\"label\"])\n",
    "        self.batch_size = batch_size\n",
    "\n",
    "    def setup(self, stage: str = None,train = train_,valid = valid_,test = test_):\n",
    "        if stage == \"fit\" or stage is None:\n",
    "            self.train_ds = CustomDataset(train[\"train_x\"], train[\"train_y\"])\n",
    "            self.val_ds = CustomDataset(valid[\"val_x\"], valid[\"val_y\"])\n",
    "        if stage == \"validate\" or stage is None:\n",
    "            self.val_ds = CustomDataset(valid[\"val_x\"], valid[\"val_y\"])\n",
    "        if stage == \"test\" or stage is None:\n",
    "            self.test_ds = CustomDataset(test[\"test_x\"], test[\"test_y\"])\n",
    "\n",
    "    def train_dataloader(self):\n",
    "        return DataLoader(self.train_ds, batch_size=self.batch_size,shuffle=True)\n",
    "\n",
    "    def val_dataloader(self):\n",
    "        return DataLoader(self.val_ds, batch_size=self.batch_size)\n",
    "\n",
    "    def test_dataloader(self):\n",
    "        return DataLoader(self.test_ds, batch_size=self.batch_size,shuffle=True)\n"
   ]
  },
  {
   "cell_type": "code",
   "execution_count": 44,
   "id": "15076870",
   "metadata": {},
   "outputs": [],
   "source": [
    "# Execute the model with PyTorch Lightning\n",
    "class LightningModelExe(L.LightningModule):\n",
    "    def __init__(self,model,lr):\n",
    "        super().__init__()\n",
    "        self.model = model\n",
    "        self.lr = lr\n",
    "\n",
    "    def forward(self, inputs):\n",
    "        return self.model(inputs)\n",
    "\n",
    "    def training_step(self, batch, batch_idx):\n",
    "        x,y = batch\n",
    "        output = self.forward(x)\n",
    "        loss = F.cross_entropy(output, y)\n",
    "        self.log(\"train_loss\", loss, on_step=True, on_epoch=True, prog_bar=True)\n",
    "\n",
    "        return loss\n",
    "\n",
    "    def validation_step(self, batch, batch_idx):\n",
    "        x,y = batch\n",
    "        output = self.forward(x)\n",
    "        loss = F.cross_entropy(output, y)\n",
    "        self.log(\"val_loss\", loss, on_step=True, on_epoch=True, prog_bar=True)\n",
    "\n",
    "        return loss\n",
    "\n",
    "    def test_step(self, batch, batch_idx):\n",
    "        x,y = batch\n",
    "        output = self.forward(x)\n",
    "        loss = F.cross_entropy(output, y)\n",
    "        self.log(\"test_loss\", loss, on_step=True, on_epoch=True, prog_bar=True)\n",
    "        return loss\n",
    "    \n",
    "    def configure_optimizers(self):\n",
    "        return torch.optim.SGD(self.model.parameters(), lr=self.lr)"
   ]
  },
  {
   "cell_type": "code",
   "execution_count": null,
   "id": "495f382b",
   "metadata": {},
   "outputs": [
    {
     "name": "stderr",
     "output_type": "stream",
     "text": [
      "💡 Tip: For seamless cloud uploads and versioning, try installing [litmodels](https://pypi.org/project/litmodels/) to enable LitModelCheckpoint, which syncs automatically with the Lightning model registry.\n",
      "GPU available: True (mps), used: True\n",
      "TPU available: False, using: 0 TPU cores\n",
      "HPU available: False, using: 0 HPUs\n",
      "/opt/anaconda3/lib/python3.13/site-packages/pytorch_lightning/trainer/connectors/data_connector.py:433: The 'train_dataloader' does not have many workers which may be a bottleneck. Consider increasing the value of the `num_workers` argument` to `num_workers=7` in the `DataLoader` to improve performance.\n",
      "/opt/anaconda3/lib/python3.13/site-packages/pytorch_lightning/trainer/connectors/data_connector.py:433: The 'val_dataloader' does not have many workers which may be a bottleneck. Consider increasing the value of the `num_workers` argument` to `num_workers=7` in the `DataLoader` to improve performance.\n"
     ]
    },
    {
     "data": {
      "application/vnd.jupyter.widget-view+json": {
       "model_id": "2558109407c24831b8950e1ea448a1b7",
       "version_major": 2,
       "version_minor": 0
      },
      "text/plain": [
       "Finding best initial lr:   0%|          | 0/100 [00:00<?, ?it/s]"
      ]
     },
     "metadata": {},
     "output_type": "display_data"
    },
    {
     "name": "stderr",
     "output_type": "stream",
     "text": [
      "`Trainer.fit` stopped: `max_steps=100` reached.\n",
      "Learning rate set to 7.585775750291837e-08\n",
      "Restoring states from the checkpoint path at /Users/parthmishra/Desktop/Jupyter_files/Makemore_part_2/.lr_find_37af1ffc-90e7-464e-8171-00aa9e6538f7.ckpt\n",
      "Restored all states from the checkpoint at /Users/parthmishra/Desktop/Jupyter_files/Makemore_part_2/.lr_find_37af1ffc-90e7-464e-8171-00aa9e6538f7.ckpt\n"
     ]
    },
    {
     "ename": "_TunerExitException",
     "evalue": "",
     "output_type": "error",
     "traceback": [
      "\u001b[0;31m---------------------------------------------------------------------------\u001b[0m",
      "\u001b[0;31m_TunerExitException\u001b[0m                       Traceback (most recent call last)",
      "Cell \u001b[0;32mIn[60], line 18\u001b[0m\n\u001b[1;32m     14\u001b[0m \u001b[38;5;66;03m# trainer.fit(lightning_model, datamodule=data_module)\u001b[39;00m\n\u001b[1;32m     15\u001b[0m \u001b[38;5;66;03m# trainer.test(lightning_model, datamodule=data_module)\u001b[39;00m\n\u001b[1;32m     17\u001b[0m tuner \u001b[38;5;241m=\u001b[39m Tuner(trainer)\n\u001b[0;32m---> 18\u001b[0m lr_find \u001b[38;5;241m=\u001b[39m tuner\u001b[38;5;241m.\u001b[39mlr_find(lightning_model, datamodule\u001b[38;5;241m=\u001b[39mdata_module)\n\u001b[1;32m     20\u001b[0m fig \u001b[38;5;241m=\u001b[39m lr_find\u001b[38;5;241m.\u001b[39mplot(suggest\u001b[38;5;241m=\u001b[39m\u001b[38;5;28;01mTrue\u001b[39;00m)\n\u001b[1;32m     21\u001b[0m plt\u001b[38;5;241m.\u001b[39mshow()\n",
      "File \u001b[0;32m/opt/anaconda3/lib/python3.13/site-packages/lightning/pytorch/tuner/tuning.py:180\u001b[0m, in \u001b[0;36mTuner.lr_find\u001b[0;34m(self, model, train_dataloaders, val_dataloaders, dataloaders, datamodule, method, min_lr, max_lr, num_training, mode, early_stop_threshold, update_attr, attr_name)\u001b[0m\n\u001b[1;32m    177\u001b[0m lr_finder_callback\u001b[38;5;241m.\u001b[39m_early_exit \u001b[38;5;241m=\u001b[39m \u001b[38;5;28;01mTrue\u001b[39;00m\n\u001b[1;32m    178\u001b[0m \u001b[38;5;28mself\u001b[39m\u001b[38;5;241m.\u001b[39m_trainer\u001b[38;5;241m.\u001b[39mcallbacks \u001b[38;5;241m=\u001b[39m [lr_finder_callback] \u001b[38;5;241m+\u001b[39m \u001b[38;5;28mself\u001b[39m\u001b[38;5;241m.\u001b[39m_trainer\u001b[38;5;241m.\u001b[39mcallbacks\n\u001b[0;32m--> 180\u001b[0m \u001b[38;5;28mself\u001b[39m\u001b[38;5;241m.\u001b[39m_trainer\u001b[38;5;241m.\u001b[39mfit(model, train_dataloaders, val_dataloaders, datamodule)\n\u001b[1;32m    182\u001b[0m \u001b[38;5;28mself\u001b[39m\u001b[38;5;241m.\u001b[39m_trainer\u001b[38;5;241m.\u001b[39mcallbacks \u001b[38;5;241m=\u001b[39m [cb \u001b[38;5;28;01mfor\u001b[39;00m cb \u001b[38;5;129;01min\u001b[39;00m \u001b[38;5;28mself\u001b[39m\u001b[38;5;241m.\u001b[39m_trainer\u001b[38;5;241m.\u001b[39mcallbacks \u001b[38;5;28;01mif\u001b[39;00m cb \u001b[38;5;129;01mis\u001b[39;00m \u001b[38;5;129;01mnot\u001b[39;00m lr_finder_callback]\n\u001b[1;32m    184\u001b[0m \u001b[38;5;28;01mreturn\u001b[39;00m lr_finder_callback\u001b[38;5;241m.\u001b[39moptimal_lr\n",
      "File \u001b[0;32m/opt/anaconda3/lib/python3.13/site-packages/pytorch_lightning/trainer/trainer.py:561\u001b[0m, in \u001b[0;36mTrainer.fit\u001b[0;34m(self, model, train_dataloaders, val_dataloaders, datamodule, ckpt_path)\u001b[0m\n\u001b[1;32m    559\u001b[0m \u001b[38;5;28mself\u001b[39m\u001b[38;5;241m.\u001b[39mtraining \u001b[38;5;241m=\u001b[39m \u001b[38;5;28;01mTrue\u001b[39;00m\n\u001b[1;32m    560\u001b[0m \u001b[38;5;28mself\u001b[39m\u001b[38;5;241m.\u001b[39mshould_stop \u001b[38;5;241m=\u001b[39m \u001b[38;5;28;01mFalse\u001b[39;00m\n\u001b[0;32m--> 561\u001b[0m call\u001b[38;5;241m.\u001b[39m_call_and_handle_interrupt(\n\u001b[1;32m    562\u001b[0m     \u001b[38;5;28mself\u001b[39m, \u001b[38;5;28mself\u001b[39m\u001b[38;5;241m.\u001b[39m_fit_impl, model, train_dataloaders, val_dataloaders, datamodule, ckpt_path\n\u001b[1;32m    563\u001b[0m )\n",
      "File \u001b[0;32m/opt/anaconda3/lib/python3.13/site-packages/pytorch_lightning/trainer/call.py:49\u001b[0m, in \u001b[0;36m_call_and_handle_interrupt\u001b[0;34m(trainer, trainer_fn, *args, **kwargs)\u001b[0m\n\u001b[1;32m     47\u001b[0m     \u001b[38;5;28;01mif\u001b[39;00m trainer\u001b[38;5;241m.\u001b[39mstrategy\u001b[38;5;241m.\u001b[39mlauncher \u001b[38;5;129;01mis\u001b[39;00m \u001b[38;5;129;01mnot\u001b[39;00m \u001b[38;5;28;01mNone\u001b[39;00m:\n\u001b[1;32m     48\u001b[0m         \u001b[38;5;28;01mreturn\u001b[39;00m trainer\u001b[38;5;241m.\u001b[39mstrategy\u001b[38;5;241m.\u001b[39mlauncher\u001b[38;5;241m.\u001b[39mlaunch(trainer_fn, \u001b[38;5;241m*\u001b[39margs, trainer\u001b[38;5;241m=\u001b[39mtrainer, \u001b[38;5;241m*\u001b[39m\u001b[38;5;241m*\u001b[39mkwargs)\n\u001b[0;32m---> 49\u001b[0m     \u001b[38;5;28;01mreturn\u001b[39;00m trainer_fn(\u001b[38;5;241m*\u001b[39margs, \u001b[38;5;241m*\u001b[39m\u001b[38;5;241m*\u001b[39mkwargs)\n\u001b[1;32m     51\u001b[0m \u001b[38;5;28;01mexcept\u001b[39;00m _TunerExitException:\n\u001b[1;32m     52\u001b[0m     _call_teardown_hook(trainer)\n",
      "File \u001b[0;32m/opt/anaconda3/lib/python3.13/site-packages/pytorch_lightning/trainer/trainer.py:599\u001b[0m, in \u001b[0;36mTrainer._fit_impl\u001b[0;34m(self, model, train_dataloaders, val_dataloaders, datamodule, ckpt_path)\u001b[0m\n\u001b[1;32m    592\u001b[0m     download_model_from_registry(ckpt_path, \u001b[38;5;28mself\u001b[39m)\n\u001b[1;32m    593\u001b[0m ckpt_path \u001b[38;5;241m=\u001b[39m \u001b[38;5;28mself\u001b[39m\u001b[38;5;241m.\u001b[39m_checkpoint_connector\u001b[38;5;241m.\u001b[39m_select_ckpt_path(\n\u001b[1;32m    594\u001b[0m     \u001b[38;5;28mself\u001b[39m\u001b[38;5;241m.\u001b[39mstate\u001b[38;5;241m.\u001b[39mfn,\n\u001b[1;32m    595\u001b[0m     ckpt_path,\n\u001b[1;32m    596\u001b[0m     model_provided\u001b[38;5;241m=\u001b[39m\u001b[38;5;28;01mTrue\u001b[39;00m,\n\u001b[1;32m    597\u001b[0m     model_connected\u001b[38;5;241m=\u001b[39m\u001b[38;5;28mself\u001b[39m\u001b[38;5;241m.\u001b[39mlightning_module \u001b[38;5;129;01mis\u001b[39;00m \u001b[38;5;129;01mnot\u001b[39;00m \u001b[38;5;28;01mNone\u001b[39;00m,\n\u001b[1;32m    598\u001b[0m )\n\u001b[0;32m--> 599\u001b[0m \u001b[38;5;28mself\u001b[39m\u001b[38;5;241m.\u001b[39m_run(model, ckpt_path\u001b[38;5;241m=\u001b[39mckpt_path)\n\u001b[1;32m    601\u001b[0m \u001b[38;5;28;01massert\u001b[39;00m \u001b[38;5;28mself\u001b[39m\u001b[38;5;241m.\u001b[39mstate\u001b[38;5;241m.\u001b[39mstopped\n\u001b[1;32m    602\u001b[0m \u001b[38;5;28mself\u001b[39m\u001b[38;5;241m.\u001b[39mtraining \u001b[38;5;241m=\u001b[39m \u001b[38;5;28;01mFalse\u001b[39;00m\n",
      "File \u001b[0;32m/opt/anaconda3/lib/python3.13/site-packages/pytorch_lightning/trainer/trainer.py:992\u001b[0m, in \u001b[0;36mTrainer._run\u001b[0;34m(self, model, ckpt_path)\u001b[0m\n\u001b[1;32m    990\u001b[0m \u001b[38;5;66;03m# hook\u001b[39;00m\n\u001b[1;32m    991\u001b[0m \u001b[38;5;28;01mif\u001b[39;00m \u001b[38;5;28mself\u001b[39m\u001b[38;5;241m.\u001b[39mstate\u001b[38;5;241m.\u001b[39mfn \u001b[38;5;241m==\u001b[39m TrainerFn\u001b[38;5;241m.\u001b[39mFITTING:\n\u001b[0;32m--> 992\u001b[0m     call\u001b[38;5;241m.\u001b[39m_call_callback_hooks(\u001b[38;5;28mself\u001b[39m, \u001b[38;5;124m\"\u001b[39m\u001b[38;5;124mon_fit_start\u001b[39m\u001b[38;5;124m\"\u001b[39m)\n\u001b[1;32m    993\u001b[0m     call\u001b[38;5;241m.\u001b[39m_call_lightning_module_hook(\u001b[38;5;28mself\u001b[39m, \u001b[38;5;124m\"\u001b[39m\u001b[38;5;124mon_fit_start\u001b[39m\u001b[38;5;124m\"\u001b[39m)\n\u001b[1;32m    995\u001b[0m _log_hyperparams(\u001b[38;5;28mself\u001b[39m)\n",
      "File \u001b[0;32m/opt/anaconda3/lib/python3.13/site-packages/pytorch_lightning/trainer/call.py:228\u001b[0m, in \u001b[0;36m_call_callback_hooks\u001b[0;34m(trainer, hook_name, monitoring_callbacks, *args, **kwargs)\u001b[0m\n\u001b[1;32m    226\u001b[0m     \u001b[38;5;28;01mif\u001b[39;00m \u001b[38;5;28mcallable\u001b[39m(fn):\n\u001b[1;32m    227\u001b[0m         \u001b[38;5;28;01mwith\u001b[39;00m trainer\u001b[38;5;241m.\u001b[39mprofiler\u001b[38;5;241m.\u001b[39mprofile(\u001b[38;5;124mf\u001b[39m\u001b[38;5;124m\"\u001b[39m\u001b[38;5;124m[Callback]\u001b[39m\u001b[38;5;132;01m{\u001b[39;00mcallback\u001b[38;5;241m.\u001b[39mstate_key\u001b[38;5;132;01m}\u001b[39;00m\u001b[38;5;124m.\u001b[39m\u001b[38;5;132;01m{\u001b[39;00mhook_name\u001b[38;5;132;01m}\u001b[39;00m\u001b[38;5;124m\"\u001b[39m):\n\u001b[0;32m--> 228\u001b[0m             fn(trainer, trainer\u001b[38;5;241m.\u001b[39mlightning_module, \u001b[38;5;241m*\u001b[39margs, \u001b[38;5;241m*\u001b[39m\u001b[38;5;241m*\u001b[39mkwargs)\n\u001b[1;32m    230\u001b[0m \u001b[38;5;28;01mif\u001b[39;00m pl_module:\n\u001b[1;32m    231\u001b[0m     \u001b[38;5;66;03m# restore current_fx when nested context\u001b[39;00m\n\u001b[1;32m    232\u001b[0m     pl_module\u001b[38;5;241m.\u001b[39m_current_fx_name \u001b[38;5;241m=\u001b[39m prev_fx_name\n",
      "File \u001b[0;32m/opt/anaconda3/lib/python3.13/site-packages/lightning/pytorch/callbacks/lr_finder.py:130\u001b[0m, in \u001b[0;36mLearningRateFinder.on_fit_start\u001b[0;34m(self, trainer, pl_module)\u001b[0m\n\u001b[1;32m    128\u001b[0m \u001b[38;5;129m@override\u001b[39m\n\u001b[1;32m    129\u001b[0m \u001b[38;5;28;01mdef\u001b[39;00m\u001b[38;5;250m \u001b[39m\u001b[38;5;21mon_fit_start\u001b[39m(\u001b[38;5;28mself\u001b[39m, trainer: \u001b[38;5;124m\"\u001b[39m\u001b[38;5;124mpl.Trainer\u001b[39m\u001b[38;5;124m\"\u001b[39m, pl_module: \u001b[38;5;124m\"\u001b[39m\u001b[38;5;124mpl.LightningModule\u001b[39m\u001b[38;5;124m\"\u001b[39m) \u001b[38;5;241m-\u001b[39m\u001b[38;5;241m>\u001b[39m \u001b[38;5;28;01mNone\u001b[39;00m:\n\u001b[0;32m--> 130\u001b[0m     \u001b[38;5;28mself\u001b[39m\u001b[38;5;241m.\u001b[39mlr_find(trainer, pl_module)\n",
      "File \u001b[0;32m/opt/anaconda3/lib/python3.13/site-packages/lightning/pytorch/callbacks/lr_finder.py:126\u001b[0m, in \u001b[0;36mLearningRateFinder.lr_find\u001b[0;34m(self, trainer, pl_module)\u001b[0m\n\u001b[1;32m    113\u001b[0m     \u001b[38;5;28mself\u001b[39m\u001b[38;5;241m.\u001b[39moptimal_lr \u001b[38;5;241m=\u001b[39m _lr_find(\n\u001b[1;32m    114\u001b[0m         trainer,\n\u001b[1;32m    115\u001b[0m         pl_module,\n\u001b[0;32m   (...)\u001b[0m\n\u001b[1;32m    122\u001b[0m         attr_name\u001b[38;5;241m=\u001b[39m\u001b[38;5;28mself\u001b[39m\u001b[38;5;241m.\u001b[39m_attr_name,\n\u001b[1;32m    123\u001b[0m     )\n\u001b[1;32m    125\u001b[0m \u001b[38;5;28;01mif\u001b[39;00m \u001b[38;5;28mself\u001b[39m\u001b[38;5;241m.\u001b[39m_early_exit:\n\u001b[0;32m--> 126\u001b[0m     \u001b[38;5;28;01mraise\u001b[39;00m _TunerExitException()\n",
      "\u001b[0;31m_TunerExitException\u001b[0m: "
     ]
    }
   ],
   "source": [
    "if __name__ == \"__main__\":\n",
    "    model = MLnames()\n",
    "    lightning_model = LightningModelExe(model, lr=1.0)\n",
    "    data_module = DataModule(data_dir=\"../names.txt\", batch_size=64)\n",
    "    \n",
    "    trainer = L.Trainer(\n",
    "    max_epochs=100,\n",
    "    accelerator=\"mps\",\n",
    "    devices=\"auto\",\n",
    "    deterministic=True,\n",
    "    logger = CSVLogger(save_dir=\"logs/\", name=\"my-model\") # the line with csv export with the CSVLogger instance\n",
    "    )    \n",
    "\n",
    "    trainer.fit(lightning_model, datamodule=data_module)\n",
    "    # trainer.test(lightning_model, datamodule=data_module)\n"
   ]
  },
  {
   "cell_type": "markdown",
   "id": "71283a5e",
   "metadata": {},
   "source": [
    "lr.           train_loss_step.    val_loss_step.  val_loss_epoch.   train_loss_epoch    batch.  epoch   \n",
    "0.01    =>     2.490,              2.310,             2.480,            2.480             64      10       \n",
    "0.01    =>     2.720,              2.380,             2.360,            2.360             64      100     \n",
    "0.001    =>    2.790,              2.260,             2.460,            2.460             64      100    \n",
    "\n",
    "\n"
   ]
  },
  {
   "cell_type": "code",
   "execution_count": 46,
   "id": "7766204b",
   "metadata": {},
   "outputs": [
    {
     "name": "stdout",
     "output_type": "stream",
     "text": [
      "trainer.logger.log_dir:  logs/my-model/version_6\n"
     ]
    },
    {
     "data": {
      "image/png": "[encoded data removed]",
      "text/plain": [
       "<Figure size 640x480 with 1 Axes>"
      ]
     },
     "metadata": {},
     "output_type": "display_data"
    }
   ],
   "source": [
    "print(f\"trainer.logger.log_dir:  {trainer.logger.log_dir}\")\n",
    "metrics = pd.read_csv(f\"{trainer.logger.log_dir}/metrics.csv\")\n",
    "\n",
    "aggreg_metrics = []\n",
    "\n",
    "agg_col = \"epoch\"\n",
    "\n",
    "for i, dfg in metrics.groupby(agg_col):\n",
    "        agg = dict(dfg.mean())\n",
    "        agg[agg_col] = i\n",
    "        aggreg_metrics.append(agg)\n",
    "\n",
    "\n",
    "df_metrics = pd.DataFrame(aggreg_metrics)\n",
    "\n",
    "df_metrics [[\"train_loss_epoch\", \"val_loss_epoch\"]].plot(grid=True, legend=True, xlabel=\"Epoch\", ylabel=\"Loss\")\n",
    "    \n",
    "# df_metrics [[\"train_acc\", \"val_acc\"]].plot(grid=True, legend=True, xlabel=\"Epoch\", ylabel=\"ACC\")\n",
    "\n",
    "plt.show()\n",
    "    \n"
   ]
  }
 ],
 "metadata": {
  "kernelspec": {
   "display_name": "base",
   "language": "python",
   "name": "python3"
  },
  "language_info": {
   "codemirror_mode": {
    "name": "ipython",
    "version": 3
   },
   "file_extension": ".py",
   "mimetype": "text/x-python",
   "name": "python",
   "nbconvert_exporter": "python",
   "pygments_lexer": "ipython3",
   "version": "3.13.5"
  }
 },
 "nbformat": 4,
 "nbformat_minor": 5
}
