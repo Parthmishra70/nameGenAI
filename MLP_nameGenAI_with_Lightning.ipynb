{
 "cells": [
  {
   "cell_type": "markdown",
   "id": "860e4b0e",
   "metadata": {},
   "source": [
    "# crack 2.17"
   ]
  },
  {
   "cell_type": "markdown",
   "id": "e2da1ccd",
   "metadata": {},
   "source": [
    "#### Automate training with Lightning"
   ]
  },
  {
   "cell_type": "code",
   "execution_count": 28,
   "id": "ebb501eb",
   "metadata": {},
   "outputs": [],
   "source": [
    "# !pip install lightning pytorch_lightning"
   ]
  },
  {
   "cell_type": "markdown",
   "id": "81aef9c9",
   "metadata": {},
   "source": [
    "<!-- https://www.kaggle.com/code/parthmishra70/notebook40e169acea/edit -->"
   ]
  },
  {
   "cell_type": "code",
   "execution_count": 29,
   "id": "715d1f1a",
   "metadata": {},
   "outputs": [
    {
     "data": {
      "text/plain": [
       "<torch._C.Generator at 0x16c021610>"
      ]
     },
     "execution_count": 29,
     "metadata": {},
     "output_type": "execute_result"
    }
   ],
   "source": [
    "import pandas as pd\n",
    "import torch\n",
    "import torch.nn.functional as F\n",
    "import matplotlib.pyplot as plt\n",
    "from sklearn.model_selection import train_test_split\n",
    "from torch.utils.data import Dataset, DataLoader\n",
    "import torch.nn.functional as F\n",
    "import torch.nn as nn\n",
    "import pytorch_lightning as L\n",
    "from lightning.pytorch.loggers import CSVLogger\n",
    "from lightning.pytorch.tuner import Tuner\n",
    "\n",
    "\n",
    "torch.manual_seed(2147483647+20)"
   ]
  },
  {
   "cell_type": "code",
   "execution_count": 30,
   "id": "c7503306",
   "metadata": {},
   "outputs": [],
   "source": [
    "names = pd.read_csv(\"../names.txt\",names = [\"label\"])"
   ]
  },
  {
   "cell_type": "code",
   "execution_count": 31,
   "id": "adc44855",
   "metadata": {},
   "outputs": [],
   "source": [
    "all_stoi = {}\n",
    "all_itos ={}\n",
    "\n",
    "all = set(\"\".join(names.label+\".\"))\n",
    "for index,(chr) in enumerate(sorted(all)):\n",
    "    all_stoi[chr] = index\n",
    "\n",
    "for index,(chr) in enumerate(sorted(all)):\n",
    "    all_itos[index] = chr"
   ]
  },
  {
   "cell_type": "code",
   "execution_count": 32,
   "id": "cb24131a",
   "metadata": {},
   "outputs": [],
   "source": [
    "device = torch.device(\"cpu\")"
   ]
  },
  {
   "cell_type": "code",
   "execution_count": 33,
   "id": "57fea1f0",
   "metadata": {},
   "outputs": [],
   "source": [
    "# Model\n",
    "class MLnames(nn.Module):\n",
    "  def __init__(self):\n",
    "    super().__init__()\n",
    "    # Initialize parameters\n",
    "    self.c = torch.randn(27,2,device =device)\n",
    "    self.w = nn.Parameter(torch.randn(6,200,device =device))\n",
    "    self.b = nn.Parameter(torch.randn(200,device =device))\n",
    "    \n",
    "    self.w1 = nn.Parameter(torch.randn(200,27,device =device))\n",
    "    self.b1 = nn.Parameter(torch.randn(27,device =device))\n",
    "\n",
    "    # self.all_layer = nn.Sequential(\n",
    "    #   # Input Layer\n",
    "    #     nn.Linear(6,100),\n",
    "    #     nn.Tanh(),\n",
    "\n",
    "    #   # Hidden Layer\n",
    "    #     nn.Linear(100,100),\n",
    "    #     nn.Tanh(),\n",
    "\n",
    "    #   # Output Layer\n",
    "    #     nn.Linear(100,27)\n",
    "    # )\n",
    "    \n",
    "  # Forward Pass\n",
    "  def forward(self,x):\n",
    "    emb = self.c[x] # [32, 3, 2]\n",
    "    z = torch.tanh(emb.view(-1,self.w.shape[0]) @ self.w + self.b)\n",
    "    logits = z @ self.w1 + self.b1\n",
    "    return logits"
   ]
  },
  {
   "cell_type": "code",
   "execution_count": 34,
   "id": "1ff3c3e7",
   "metadata": {},
   "outputs": [
    {
     "name": "stdout",
     "output_type": "stream",
     "text": [
      "train_x: 182516 train_y: 182516\n",
      "val_x: 41067 val_y: 41067\n",
      "test_x: 4563 test_y: 4563\n"
     ]
    }
   ],
   "source": [
    "xo = []\n",
    "yo = []\n",
    "blocks = 3\n",
    "\n",
    "for word in names.label:\n",
    "    wx = [(\".\"* (blocks - i)) + word  for i in range(blocks)]\n",
    "    wy = [yo.append(all_stoi[i]) for i in (word+\".\")]\n",
    "                       \n",
    "    for ch1,ch2,ch3 in zip(*wx[:len(wx)]):\n",
    "        xo.append((all_stoi[ch1],all_stoi[ch2],all_stoi[ch3]))\n",
    " \n",
    "train_x,val_x,train_y,val_y = train_test_split(xo,yo,test_size=0.2,stratify = yo,random_state=42)\n",
    "val_x,test_x,val_y,test_y = train_test_split(val_x,val_y,test_size=0.1,stratify = val_y, random_state=42)\n",
    "\n",
    "\n",
    "train_ = {\"train_x\": train_x, \"train_y\": train_y}\n",
    "valid_ = {\"val_x\": val_x, \"val_y\": val_y}\n",
    "test_ = {\"test_x\": test_x, \"test_y\": test_y}\n",
    "\n",
    "\n",
    "\n",
    "print(f\"train_x: {len(train_x)} train_y: {len(train_y)}\")\n",
    "print(f\"val_x: {len(val_x)} val_y: {len(val_y)}\")\n",
    "print(f\"test_x: {len(test_x)} test_y: {len(test_y)}\")\n",
    "\n",
    "# print(len(xo),len(yo))\n",
    "\n",
    "class CustomDataset(Dataset):\n",
    "    def __init__(self, data, labels):\n",
    "        super().__init__()\n",
    "        self.data = torch.tensor(data,device=device)\n",
    "        self.labels = torch.tensor(labels,device=device)\n",
    "\n",
    "    def __len__(self):\n",
    "        return len(self.data)\n",
    "\n",
    "    def __getitem__(self, idx):\n",
    "        x =  self.data[idx]\n",
    "        y =  self.labels[idx]\n",
    "        return x,y\n",
    "        \n",
    "# # Execute the Data Loading with PyTorch Lightning\n",
    "class DataModule(L.LightningDataModule):\n",
    "    def __init__(self, data_dir: str = \"../names.txt\", batch_size: int = 64):\n",
    "        super().__init__()\n",
    "        self.data_dir = pd.read_csv(data_dir,names = [\"label\"])\n",
    "        self.batch_size = batch_size\n",
    "\n",
    "    def setup(self, stage: str = None,train = train_,valid = valid_,test = test_):\n",
    "        if stage == \"fit\" or stage is None:\n",
    "            self.train_ds = CustomDataset(train[\"train_x\"], train[\"train_y\"])\n",
    "            self.val_ds = CustomDataset(valid[\"val_x\"], valid[\"val_y\"])\n",
    "        if stage == \"validate\" or stage is None:\n",
    "            self.val_ds = CustomDataset(valid[\"val_x\"], valid[\"val_y\"])\n",
    "        if stage == \"test\" or stage is None:\n",
    "            self.test_ds = CustomDataset(test[\"test_x\"], test[\"test_y\"])\n",
    "\n",
    "    def train_dataloader(self):\n",
    "        return DataLoader(self.train_ds, batch_size=self.batch_size,shuffle=True)\n",
    "\n",
    "    def val_dataloader(self):\n",
    "        return DataLoader(self.val_ds, batch_size=self.batch_size)\n",
    "\n",
    "    def test_dataloader(self):\n",
    "        return DataLoader(self.test_ds, batch_size=self.batch_size,shuffle=True)\n"
   ]
  },
  {
   "cell_type": "code",
   "execution_count": 35,
   "id": "15076870",
   "metadata": {},
   "outputs": [],
   "source": [
    "# Execute the model with PyTorch Lightning\n",
    "class LightningModelExe(L.LightningModule):\n",
    "    def __init__(self,model,lr):\n",
    "        super().__init__()\n",
    "        self.model = model\n",
    "        self.lr = lr\n",
    "\n",
    "    def forward(self, inputs):\n",
    "        return self.model(inputs)\n",
    "\n",
    "    def training_step(self, batch, batch_idx):\n",
    "        x,y = batch\n",
    "        output = self.forward(x)\n",
    "        loss = F.cross_entropy(output, y)\n",
    "        self.log(\"train_loss\", loss, on_step=True, on_epoch=True, prog_bar=True)\n",
    "\n",
    "        return loss\n",
    "\n",
    "    def validation_step(self, batch, batch_idx):\n",
    "        x,y = batch\n",
    "        output = self.forward(x)\n",
    "        loss = F.cross_entropy(output, y)\n",
    "        self.log(\"val_loss\", loss, on_step=True, on_epoch=True, prog_bar=True)\n",
    "\n",
    "        return loss\n",
    "\n",
    "    def test_step(self, batch, batch_idx):\n",
    "        x,y = batch\n",
    "        output = self.forward(x)\n",
    "        loss = F.cross_entropy(output, y)\n",
    "        self.log(\"test_loss\", loss, on_step=True, on_epoch=True, prog_bar=True)\n",
    "        return loss\n",
    "    \n",
    "    def configure_optimizers(self):\n",
    "        return torch.optim.SGD(self.model.parameters(), lr=self.lr)"
   ]
  },
  {
   "cell_type": "code",
   "execution_count": null,
   "id": "495f382b",
   "metadata": {},
   "outputs": [
    {
     "name": "stderr",
     "output_type": "stream",
     "text": [
      "GPU available: True (mps), used: False\n",
      "TPU available: False, using: 0 TPU cores\n",
      "HPU available: False, using: 0 HPUs\n",
      "/opt/anaconda3/lib/python3.13/site-packages/pytorch_lightning/trainer/setup.py:177: GPU available but not used. You can set it by doing `Trainer(accelerator='gpu')`.\n",
      "\n",
      "  | Name  | Type    | Params | Mode \n",
      "------------------------------------------\n",
      "0 | model | MLnames | 6.8 K  | train\n",
      "------------------------------------------\n",
      "6.8 K     Trainable params\n",
      "0         Non-trainable params\n",
      "6.8 K     Total params\n",
      "0.027     Total estimated model params size (MB)\n",
      "1         Modules in train mode\n",
      "0         Modules in eval mode\n"
     ]
    },
    {
     "data": {
      "application/vnd.jupyter.widget-view+json": {
       "model_id": "a2074d81f1de4d619ad6648347d8f74e",
       "version_major": 2,
       "version_minor": 0
      },
      "text/plain": [
       "Sanity Checking: |          | 0/? [00:00<?, ?it/s]"
      ]
     },
     "metadata": {},
     "output_type": "display_data"
    },
    {
     "name": "stderr",
     "output_type": "stream",
     "text": [
      "/opt/anaconda3/lib/python3.13/site-packages/pytorch_lightning/trainer/connectors/data_connector.py:433: The 'val_dataloader' does not have many workers which may be a bottleneck. Consider increasing the value of the `num_workers` argument` to `num_workers=7` in the `DataLoader` to improve performance.\n",
      "/opt/anaconda3/lib/python3.13/site-packages/pytorch_lightning/trainer/connectors/data_connector.py:433: The 'train_dataloader' does not have many workers which may be a bottleneck. Consider increasing the value of the `num_workers` argument` to `num_workers=7` in the `DataLoader` to improve performance.\n"
     ]
    },
    {
     "data": {
      "application/vnd.jupyter.widget-view+json": {
       "model_id": "a8ea4885f0fa485d9e9319c70ab85608",
       "version_major": 2,
       "version_minor": 0
      },
      "text/plain": [
       "Training: |          | 0/? [00:00<?, ?it/s]"
      ]
     },
     "metadata": {},
     "output_type": "display_data"
    },
    {
     "data": {
      "application/vnd.jupyter.widget-view+json": {
       "model_id": "1ed3b575068d484887d70c7df67cb93e",
       "version_major": 2,
       "version_minor": 0
      },
      "text/plain": [
       "Validation: |          | 0/? [00:00<?, ?it/s]"
      ]
     },
     "metadata": {},
     "output_type": "display_data"
    },
    {
     "data": {
      "application/vnd.jupyter.widget-view+json": {
       "model_id": "8e5e5a559a40492cb5477a9231be0ffe",
       "version_major": 2,
       "version_minor": 0
      },
      "text/plain": [
       "Validation: |          | 0/? [00:00<?, ?it/s]"
      ]
     },
     "metadata": {},
     "output_type": "display_data"
    },
    {
     "data": {
      "application/vnd.jupyter.widget-view+json": {
       "model_id": "fa6df052124a40d4a02765c13ac972e4",
       "version_major": 2,
       "version_minor": 0
      },
      "text/plain": [
       "Validation: |          | 0/? [00:00<?, ?it/s]"
      ]
     },
     "metadata": {},
     "output_type": "display_data"
    },
    {
     "data": {
      "application/vnd.jupyter.widget-view+json": {
       "model_id": "6a0d7f66e2f140bb99317854cbfb85ca",
       "version_major": 2,
       "version_minor": 0
      },
      "text/plain": [
       "Validation: |          | 0/? [00:00<?, ?it/s]"
      ]
     },
     "metadata": {},
     "output_type": "display_data"
    },
    {
     "data": {
      "application/vnd.jupyter.widget-view+json": {
       "model_id": "0e26e71875464c2fbd014f28b7eb5dd6",
       "version_major": 2,
       "version_minor": 0
      },
      "text/plain": [
       "Validation: |          | 0/? [00:00<?, ?it/s]"
      ]
     },
     "metadata": {},
     "output_type": "display_data"
    },
    {
     "data": {
      "application/vnd.jupyter.widget-view+json": {
       "model_id": "e3643406ab4d4f68b27ef9b9e28c2d5d",
       "version_major": 2,
       "version_minor": 0
      },
      "text/plain": [
       "Validation: |          | 0/? [00:00<?, ?it/s]"
      ]
     },
     "metadata": {},
     "output_type": "display_data"
    },
    {
     "data": {
      "application/vnd.jupyter.widget-view+json": {
       "model_id": "78c7f723b11f46c085e65a5e14b6116d",
       "version_major": 2,
       "version_minor": 0
      },
      "text/plain": [
       "Validation: |          | 0/? [00:00<?, ?it/s]"
      ]
     },
     "metadata": {},
     "output_type": "display_data"
    },
    {
     "data": {
      "application/vnd.jupyter.widget-view+json": {
       "model_id": "11e15dd9be274fe6ad86699b5d4f159a",
       "version_major": 2,
       "version_minor": 0
      },
      "text/plain": [
       "Validation: |          | 0/? [00:00<?, ?it/s]"
      ]
     },
     "metadata": {},
     "output_type": "display_data"
    },
    {
     "data": {
      "application/vnd.jupyter.widget-view+json": {
       "model_id": "5d54f0eeffe046feb192e9bf5ef89dd9",
       "version_major": 2,
       "version_minor": 0
      },
      "text/plain": [
       "Validation: |          | 0/? [00:00<?, ?it/s]"
      ]
     },
     "metadata": {},
     "output_type": "display_data"
    },
    {
     "data": {
      "application/vnd.jupyter.widget-view+json": {
       "model_id": "11ce469e6cc24d7d92a1c917d03a14d5",
       "version_major": 2,
       "version_minor": 0
      },
      "text/plain": [
       "Validation: |          | 0/? [00:00<?, ?it/s]"
      ]
     },
     "metadata": {},
     "output_type": "display_data"
    },
    {
     "data": {
      "application/vnd.jupyter.widget-view+json": {
       "model_id": "00fc0ec1c515432e873cbdea03393042",
       "version_major": 2,
       "version_minor": 0
      },
      "text/plain": [
       "Validation: |          | 0/? [00:00<?, ?it/s]"
      ]
     },
     "metadata": {},
     "output_type": "display_data"
    },
    {
     "data": {
      "application/vnd.jupyter.widget-view+json": {
       "model_id": "35e9d3fa717943519a622eb06c6c24fb",
       "version_major": 2,
       "version_minor": 0
      },
      "text/plain": [
       "Validation: |          | 0/? [00:00<?, ?it/s]"
      ]
     },
     "metadata": {},
     "output_type": "display_data"
    },
    {
     "data": {
      "application/vnd.jupyter.widget-view+json": {
       "model_id": "191399c668c54c98a23ecd79591a7579",
       "version_major": 2,
       "version_minor": 0
      },
      "text/plain": [
       "Validation: |          | 0/? [00:00<?, ?it/s]"
      ]
     },
     "metadata": {},
     "output_type": "display_data"
    },
    {
     "data": {
      "application/vnd.jupyter.widget-view+json": {
       "model_id": "18c6dc234f064f2c9da9a38c82eb23de",
       "version_major": 2,
       "version_minor": 0
      },
      "text/plain": [
       "Validation: |          | 0/? [00:00<?, ?it/s]"
      ]
     },
     "metadata": {},
     "output_type": "display_data"
    },
    {
     "data": {
      "application/vnd.jupyter.widget-view+json": {
       "model_id": "de41b40db5994d48ade0617568987384",
       "version_major": 2,
       "version_minor": 0
      },
      "text/plain": [
       "Validation: |          | 0/? [00:00<?, ?it/s]"
      ]
     },
     "metadata": {},
     "output_type": "display_data"
    },
    {
     "data": {
      "application/vnd.jupyter.widget-view+json": {
       "model_id": "c675fec7d7c344fb94c056db3bee2752",
       "version_major": 2,
       "version_minor": 0
      },
      "text/plain": [
       "Validation: |          | 0/? [00:00<?, ?it/s]"
      ]
     },
     "metadata": {},
     "output_type": "display_data"
    }
   ],
   "source": [
    "if __name__ == \"__main__\":\n",
    "    model = MLnames()\n",
    "    lightning_model = LightningModelExe(model, lr=0.01)\n",
    "    data_module = DataModule(data_dir=\"../names.txt\", batch_size=64)\n",
    "    \n",
    "    trainer = L.Trainer(\n",
    "    max_epochs=200,\n",
    "    accelerator=\"cpu\",\n",
    "    devices=\"auto\",\n",
    "    deterministic=True,\n",
    "    enable_checkpointing=False,  # no model checkpoints\n",
    "    logger = False\n",
    "    # logger = CSVLogger(save_dir=\"logs/\", name=\"my-model\") # the line with csv export with the CSVLogger instance\n",
    "    )    \n",
    "\n",
    "    trainer.fit(lightning_model, datamodule=data_module)\n",
    "    # trainer.test(lightning_model, datamodule=data_module)\n"
   ]
  },
  {
   "cell_type": "markdown",
   "id": "71283a5e",
   "metadata": {},
   "source": [
    "lr.           train_loss_step.    val_loss_step.  val_loss_epoch.   train_loss_epoch    batch.  epoch   \n",
    "0.01    =>     2.490,              2.310,             2.480,            2.480             64      10       \n",
    "0.01    =>     2.720,              2.380,             2.360,            2.360             64      100     \n",
    "0.001    =>    2.790,              2.260,             2.460,            2.460             64      100    \n",
    "1.0    =>      2.350,              2.310,             2.390,            2.390             64      100    \n",
    "1.0.   =>      2.630,              2.610,             2.550,            2.540             512     100\n",
    "\n"
   ]
  },
  {
   "cell_type": "code",
   "execution_count": null,
   "id": "7766204b",
   "metadata": {},
   "outputs": [
    {
     "name": "stdout",
     "output_type": "stream",
     "text": [
      "trainer.logger.log_dir:  logs/my-model/version_23\n"
     ]
    },
    {
     "data": {
      "image/png": "[encoded data removed]",
      "text/plain": [
       "<Figure size 640x480 with 1 Axes>"
      ]
     },
     "metadata": {},
     "output_type": "display_data"
    }
   ],
   "source": [
    "print(f\"trainer.logger.log_dir:  {trainer.logger.log_dir}\")\n",
    "metrics = pd.read_csv(f\"{trainer.logger.log_dir}/metrics.csv\")\n",
    "\n",
    "aggreg_metrics = []\n",
    "\n",
    "agg_col = \"epoch\"\n",
    "\n",
    "for i, dfg in metrics.groupby(agg_col):\n",
    "        agg = dict(dfg.mean())\n",
    "        agg[agg_col] = i\n",
    "        aggreg_metrics.append(agg)\n",
    "\n",
    "\n",
    "df_metrics = pd.DataFrame(aggreg_metrics)\n",
    "\n",
    "df_metrics [[\"train_loss_epoch\", \"val_loss_epoch\"]].plot(grid=True, legend=True, xlabel=\"Epoch\", ylabel=\"Loss\")\n",
    "    \n",
    "# df_metrics [[\"train_acc\", \"val_acc\"]].plot(grid=True, legend=True, xlabel=\"Epoch\", ylabel=\"ACC\")\n",
    "\n",
    "plt.show()\n",
    "    \n"
   ]
  }
 ],
 "metadata": {
  "kernelspec": {
   "display_name": "base",
   "language": "python",
   "name": "python3"
  },
  "language_info": {
   "codemirror_mode": {
    "name": "ipython",
    "version": 3
   },
   "file_extension": ".py",
   "mimetype": "text/x-python",
   "name": "python",
   "nbconvert_exporter": "python",
   "pygments_lexer": "ipython3",
   "version": "3.13.5"
  }
 },
 "nbformat": 4,
 "nbformat_minor": 5
}
