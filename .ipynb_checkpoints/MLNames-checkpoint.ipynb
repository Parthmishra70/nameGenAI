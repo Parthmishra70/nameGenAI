{
 "cells": [
  {
   "cell_type": "code",
   "execution_count": 1,
   "id": "a7b9b385-0a90-404d-8405-3976446c171d",
   "metadata": {},
   "outputs": [],
   "source": [
    "# crack 2.17"
   ]
  },
  {
   "cell_type": "code",
   "execution_count": 80,
   "id": "7bb9ce38-36fc-4d63-a5d8-27ccfe145a2a",
   "metadata": {},
   "outputs": [
    {
     "data": {
      "text/plain": [
       "<torch._C.Generator at 0x123cd7250>"
      ]
     },
     "execution_count": 80,
     "metadata": {},
     "output_type": "execute_result"
    }
   ],
   "source": [
    "import pandas as pd\n",
    "import torch\n",
    "import torch.nn.functional as F\n",
    "import matplotlib.pyplot as plt\n",
    "from sklearn.model_selection import train_test_split\n",
    "from torch.utils.data import Dataset, DataLoader\n",
    "import torch.nn.functional as F\n",
    "import time\n",
    "\n",
    "torch.manual_seed(2147483647)"
   ]
  },
  {
   "cell_type": "code",
   "execution_count": 81,
   "id": "aa136c1b-6a79-49bc-9369-184fbcaa6493",
   "metadata": {},
   "outputs": [],
   "source": [
    "names = pd.read_csv(\"../names.txt\",names = [\"label\"])"
   ]
  },
  {
   "cell_type": "code",
   "execution_count": 82,
   "id": "372bfe95-e0a7-4f00-9476-42648ee3f428",
   "metadata": {},
   "outputs": [],
   "source": [
    "all_stoi = {}\n",
    "all_itos ={}\n",
    "\n",
    "all = set(\"\".join(names.label+\".\"))\n",
    "for index,(chr) in enumerate(sorted(all)):\n",
    "    all_stoi[chr] = index\n",
    "\n",
    "for index,(chr) in enumerate(sorted(all)):\n",
    "    all_itos[index] = chr"
   ]
  },
  {
   "cell_type": "code",
   "execution_count": 83,
   "id": "450e636a-571c-4dd2-8797-9c342677da50",
   "metadata": {},
   "outputs": [],
   "source": [
    "x = []\n",
    "y = []\n",
    "\n",
    "\n",
    "blocks = 3\n",
    "\n",
    "\n",
    "for word in names.label:\n",
    "    \n",
    "\n",
    "    wx = [(\".\"* (blocks - i)) + word  for i in range(blocks)]\n",
    "    wy = [y.append(all_stoi[i]) for i in (word+\".\")]\n",
    "    for ch1,ch2,ch3 in zip(*wx[:len(wx)]):\n",
    "        x.append((all_stoi[ch1],all_stoi[ch2],all_stoi[ch3]))\n",
    "\n",
    "\n",
    "x = torch.tensor(x)\n",
    "y = torch.tensor(y)\n"
   ]
  },
  {
   "cell_type": "code",
   "execution_count": 84,
   "id": "fa948882-355c-44c1-b0f4-0659f598594c",
   "metadata": {},
   "outputs": [
    {
     "name": "stdout",
     "output_type": "stream",
     "text": [
      "train_x: torch.Size([182516, 3]) train_y: torch.Size([182516])\n",
      "val_x: torch.Size([4563, 3]) val_y: torch.Size([4563])\n",
      "test_x: torch.Size([41067, 3]) test_y: torch.Size([41067])\n"
     ]
    }
   ],
   "source": [
    "# train: 70%\n",
    "# val: 10%\n",
    "# test: 30%\n",
    "\n",
    "train_x,val_x,train_y,val_y = train_test_split(x,y,test_size=0.2, shuffle=True,stratify = y, random_state=42)\n",
    "test_x,val_x,test_y,val_y = train_test_split(val_x,val_y,test_size=0.1, shuffle=True,stratify = val_y, random_state=42)\n",
    "\n",
    "# print(f\"x: {x.shape} y: {y.shape}\")\n",
    "print(f\"train_x: {train_x.shape} train_y: {train_y.shape}\")\n",
    "print(f\"val_x: {val_x.shape} val_y: {val_y.shape}\")\n",
    "print(f\"test_x: {test_x.shape} test_y: {test_y.shape}\")"
   ]
  },
  {
   "cell_type": "code",
   "execution_count": 85,
   "id": "7e1960c7-57f9-4ce6-9b36-dc3825b5aead",
   "metadata": {},
   "outputs": [],
   "source": [
    "# Model\n",
    "class MLnames:\n",
    "  def __init__(self,feature,label):\n",
    "    self.feature = torch.tensor(feature,dtype = torch.float32)\n",
    "    self.label = torch.tensor(label,dtype = torch.float32)\n",
    "\n",
    "  def forward(self):\n",
    "      pass\n",
    "\n"
   ]
  },
  {
   "cell_type": "code",
   "execution_count": 86,
   "id": "dc970609-656e-4fb8-8eb3-f0dbecda65fb",
   "metadata": {},
   "outputs": [
    {
     "name": "stdout",
     "output_type": "stream",
     "text": [
      "mps\n"
     ]
    }
   ],
   "source": [
    "# Custom Dataset\n",
    "device = torch.device(\"mps\" if torch.mps.is_available() else \"cuda\")\n",
    "print(device)\n",
    "class CustomDataset(Dataset):\n",
    "    def __init__(self, data, labels):\n",
    "        super().__init__()\n",
    "        self.data = data.to(device)\n",
    "        self.labels = labels.to(device)\n",
    "\n",
    "    def __len__(self):\n",
    "        return len(self.data)\n",
    "\n",
    "    def __getitem__(self, idx):\n",
    "       \n",
    "        x =  self.data[idx]\n",
    "        y =  self.labels[idx]\n",
    "        return x,y\n",
    "\n",
    "        \n",
    "train_ds = CustomDataset(train_x,train_y)\n",
    "val_ds = CustomDataset(val_x,val_y)\n",
    "test_ds = CustomDataset(test_x,test_y)\n",
    "\n",
    "train_loader = DataLoader(train_ds,batch_size=32,shuffle=True)\n",
    "test_loader = DataLoader(test_ds,batch_size=32,shuffle=True)\n",
    "val_loader = DataLoader(val_ds,batch_size=32,shuffle=False)\n"
   ]
  },
  {
   "cell_type": "code",
   "execution_count": 87,
   "id": "2a0a6478-f54b-44ec-8990-3b19401ffff5",
   "metadata": {},
   "outputs": [],
   "source": [
    "# for index,(feature,label) in enumerate(train_loader):\n",
    "#     print(f\"{index=}  || feature: {feature} || label: {label}\")"
   ]
  },
  {
   "cell_type": "code",
   "execution_count": 88,
   "id": "b7f88044-f112-4c04-baf7-33bcc3cce05f",
   "metadata": {},
   "outputs": [],
   "source": [
    "# parameter\n",
    "c = torch.randn(27,2,device =device)\n",
    "\n",
    "w = torch.randn(6,100,device =device)\n",
    "b = torch.randn(100,device =device)\n",
    "\n",
    "\n",
    "w1 = torch.randn(100,27,device =device)\n",
    "b1 = torch.randn(27,device =device)\n",
    "\n",
    "lr = 0.01 #loss=tensor(2.0388, grad_fn=<NllLossBackward0>)\n",
    "# lr = 0.1\n",
    "\n",
    "parameter = [c,w,b,w1,b1]\n",
    "\n",
    "for p in parameter:\n",
    "    p.requires_grad =True\n",
    "\n",
    "\n",
    "optimizer = torch.optim.SGD(parameter,lr)"
   ]
  },
  {
   "cell_type": "code",
   "execution_count": 76,
   "id": "72247825-0b0d-46fc-9170-ee182cf2a405",
   "metadata": {},
   "outputs": [],
   "source": [
    "lossi = []\n",
    "epochi = []"
   ]
  },
  {
   "cell_type": "code",
   "execution_count": 77,
   "id": "c0088e36-ca83-456c-b3bc-60bcc3dd1b8d",
   "metadata": {},
   "outputs": [
    {
     "name": "stdout",
     "output_type": "stream",
     "text": [
      "999: loss.item()=2.403714656829834\n"
     ]
    }
   ],
   "source": [
    "start = time.time()\n",
    "for epoch in range(1000):\n",
    "    # Forward Pass\n",
    "    for index,(feature,label) in enumerate(train_loader):\n",
    "        emb = c[feature] # [32, 3, 2]\n",
    "        z = torch.tanh(emb.view(-1,w.shape[0]) @ w + b)\n",
    "        logits = z @ w1 + b1\n",
    "        loss = F.cross_entropy(logits,label)\n",
    "        lossi.append(loss.item())\n",
    "        epochi.append(epoch)\n",
    "        \n",
    "        ##Backward Pass\n",
    "        # for p in parameter:\n",
    "        #     p.grad = None\n",
    "        # loss.backward()\n",
    "        # p.data += -lr*p.grad\n",
    "        ## same as\n",
    "        optimizer.zero_grad()\n",
    "        loss.backward()\n",
    "        optimizer.step()\n",
    "    \n",
    "end = time.time()\n",
    "delay = end - start\n",
    "print(f\"time: {delay*60}min: {loss.item()=}\")   "
   ]
  },
  {
   "cell_type": "code",
   "execution_count": 53,
   "id": "e905e123-e660-4af0-b28e-c66b14ed20ac",
   "metadata": {},
   "outputs": [
    {
     "data": {
      "image/png": "[encoded data removed]",
      "text/plain": [
       "<Figure size 640x480 with 1 Axes>"
      ]
     },
     "metadata": {},
     "output_type": "display_data"
    }
   ],
   "source": [
    "plt.scatter(lossi,epochi)\n",
    "plt.grid(\"minor\")\n",
    "plt.show()"
   ]
  },
  {
   "cell_type": "code",
   "execution_count": null,
   "id": "a70545c4-0a72-4e53-82b8-e6669f99d162",
   "metadata": {},
   "outputs": [],
   "source": [
    "# 16.4423"
   ]
  },
  {
   "cell_type": "code",
   "execution_count": 54,
   "id": "b79b06df-22cb-4db7-b2dd-b5ad55ac3f5d",
   "metadata": {},
   "outputs": [
    {
     "name": "stdout",
     "output_type": "stream",
     "text": [
      "loss.item()=2.3439745903015137\n"
     ]
    }
   ],
   "source": [
    "# Training loss\n",
    "for index,(feature,label) in enumerate(train_loader):\n",
    "    emb = c[feature] # [32, 3, 2]\n",
    "    z = torch.tanh(emb.view(-1,w.shape[0]) @ w + b)\n",
    "    logits = z @ w1 + b1\n",
    "    loss = F.cross_entropy(logits,label)\n",
    "\n",
    "print(f\"{loss.item()=}\")  "
   ]
  },
  {
   "cell_type": "code",
   "execution_count": 55,
   "id": "c7e385c5-859d-40dc-82e7-a8f0fd749632",
   "metadata": {},
   "outputs": [
    {
     "name": "stdout",
     "output_type": "stream",
     "text": [
      "loss.item()=2.585073232650757\n"
     ]
    }
   ],
   "source": [
    "# Val loss\n",
    "for index,(feature,label) in enumerate(val_loader):\n",
    "    emb = c[feature] # [32, 3, 2]\n",
    "    z = torch.tanh(emb.view(-1,w.shape[0]) @ w + b)\n",
    "    logits = z @ w1 + b1\n",
    "    loss = F.cross_entropy(logits,label)\n",
    "\n",
    "print(f\"{loss.item()=}\")  "
   ]
  }
 ],
 "metadata": {
  "kernelspec": {
   "display_name": "Python 3 (ipykernel)",
   "language": "python",
   "name": "python3"
  },
  "language_info": {
   "codemirror_mode": {
    "name": "ipython",
    "version": 3
   },
   "file_extension": ".py",
   "mimetype": "text/x-python",
   "name": "python",
   "nbconvert_exporter": "python",
   "pygments_lexer": "ipython3",
   "version": "3.13.5"
  }
 },
 "nbformat": 4,
 "nbformat_minor": 5
}
